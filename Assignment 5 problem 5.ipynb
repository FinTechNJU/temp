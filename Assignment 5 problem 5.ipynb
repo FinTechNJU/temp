{
 "metadata": {
  "language_info": {
   "codemirror_mode": {
    "name": "ipython",
    "version": 3
   },
   "file_extension": ".py",
   "mimetype": "text/x-python",
   "name": "python",
   "nbconvert_exporter": "python",
   "pygments_lexer": "ipython3",
   "version": "3.7.6-final"
  },
  "orig_nbformat": 2,
  "kernelspec": {
   "name": "python3",
   "display_name": "Python 3",
   "language": "python"
  }
 },
 "nbformat": 4,
 "nbformat_minor": 2,
 "cells": [
  {
   "cell_type": "code",
   "execution_count": 2,
   "metadata": {},
   "outputs": [],
   "source": [
    "import sympy as sp  \n",
    "p = sp.symbols(\"p\")\n",
    "import numpy as np  \n",
    "c = sp.symbols(\"c\")\n",
    "w = sp.symbols(\"w\")\n",
    "r = sp.symbols(\"r\")\n",
    "c = 1/(1+p) * w"
   ]
  },
  {
   "cell_type": "code",
   "execution_count": 3,
   "metadata": {},
   "outputs": [],
   "source": [
    "N = 10\n",
    "names = locals()\n",
    "for i in range(1,N+1):\n",
    "    names['J'+str(i)] = 0\n",
    "    names['C'+str(i)] = 0\n",
    "J1 = (1+p) * sp.log(w) + p * sp.log(r) + p * sp.log(p) - (1+p)*sp.log(1+p)\n",
    "C1 = 1/(1+p)*w\n",
    "J = [None]\n",
    "C = [None]\n",
    "J.append(J1)\n",
    "C.append(C1)\n",
    "for i in range(2, N+1):\n",
    "    C.append(w / sum([p**j for j in range(i+1)]))"
   ]
  },
  {
   "cell_type": "code",
   "execution_count": 4,
   "metadata": {},
   "outputs": [
    {
     "output_type": "stream",
     "name": "stdout",
     "text": [
      ">>> porcessing  2\n",
      ">>> porcessing  3\n",
      ">>> porcessing  4\n",
      ">>> porcessing  5\n",
      ">>> porcessing  6\n",
      ">>> porcessing  7\n",
      ">>> porcessing  8\n",
      ">>> porcessing  9\n",
      ">>> porcessing  10\n"
     ]
    }
   ],
   "source": [
    "for i in range(2, N+1):\n",
    "    print(\">>> porcessing \",i)\n",
    "    u=sp.log(C[i])+p*J[i-1].subs(w,r*(w-C[i]))\n",
    "    new = sp.expand_log(u,force = True, deep=True)\n",
    "    new = sp.expand_mul(new)\n",
    "    J.append(new)"
   ]
  },
  {
   "source": [
    "There is a generator of J() above.\n",
    "\n",
    "where, $J[t]$ means $ J(T-t,W_{T-t}) $\n",
    "\n",
    "And, here are some results of the J().\n",
    "\n",
    "Notice: for coding convenience, I use **p** to stand for $\\rho$"
   ],
   "cell_type": "markdown",
   "metadata": {}
  },
  {
   "cell_type": "code",
   "execution_count": 152,
   "metadata": {},
   "outputs": [
    {
     "output_type": "execute_result",
     "data": {
      "text/plain": [
       "p*log(p) + p*log(r) + (p + 1)*log(w) - (p + 1)*log(p + 1)"
      ],
      "text/latex": "$\\displaystyle p \\log{\\left(p \\right)} + p \\log{\\left(r \\right)} + \\left(p + 1\\right) \\log{\\left(w \\right)} - \\left(p + 1\\right) \\log{\\left(p + 1 \\right)}$"
     },
     "metadata": {},
     "execution_count": 152
    }
   ],
   "source": [
    "J[1]"
   ]
  },
  {
   "cell_type": "code",
   "execution_count": 148,
   "metadata": {},
   "outputs": [
    {
     "output_type": "execute_result",
     "data": {
      "text/plain": [
       "p**2*log(p) + 2*p**2*log(r) - p**2*log(p + 1) + p**2*log(w - w/(p**2 + p + 1)) + p*log(r) - p*log(p + 1) + p*log(w - w/(p**2 + p + 1)) + log(w) - log(p**2 + p + 1)"
      ],
      "text/latex": "$\\displaystyle p^{2} \\log{\\left(p \\right)} + 2 p^{2} \\log{\\left(r \\right)} - p^{2} \\log{\\left(p + 1 \\right)} + p^{2} \\log{\\left(w - \\frac{w}{p^{2} + p + 1} \\right)} + p \\log{\\left(r \\right)} - p \\log{\\left(p + 1 \\right)} + p \\log{\\left(w - \\frac{w}{p^{2} + p + 1} \\right)} + \\log{\\left(w \\right)} - \\log{\\left(p^{2} + p + 1 \\right)}$"
     },
     "metadata": {},
     "execution_count": 148
    }
   ],
   "source": [
    "J[2]"
   ]
  },
  {
   "cell_type": "code",
   "execution_count": 149,
   "metadata": {},
   "outputs": [
    {
     "output_type": "execute_result",
     "data": {
      "text/plain": [
       "p**3*log(p) + 2*p**3*log(r) - p**3*log(p + 1) + p**3*log(r*w + r*w/(p**5 + 2*p**4 + 3*p**3 + 3*p**2 + 2*p + 1) - r*w/(p**3 + p**2 + p + 1) - r*w/(p**2 + p + 1)) + p**2*log(r) - p**2*log(p + 1) + p**2*log(r*w + r*w/(p**5 + 2*p**4 + 3*p**3 + 3*p**2 + 2*p + 1) - r*w/(p**3 + p**2 + p + 1) - r*w/(p**2 + p + 1)) + p*log(r) + p*log(w - w/(p**3 + p**2 + p + 1)) - p*log(p**2 + p + 1) + log(w) - log(p**3 + p**2 + p + 1)"
      ],
      "text/latex": "$\\displaystyle p^{3} \\log{\\left(p \\right)} + 2 p^{3} \\log{\\left(r \\right)} - p^{3} \\log{\\left(p + 1 \\right)} + p^{3} \\log{\\left(r w + \\frac{r w}{p^{5} + 2 p^{4} + 3 p^{3} + 3 p^{2} + 2 p + 1} - \\frac{r w}{p^{3} + p^{2} + p + 1} - \\frac{r w}{p^{2} + p + 1} \\right)} + p^{2} \\log{\\left(r \\right)} - p^{2} \\log{\\left(p + 1 \\right)} + p^{2} \\log{\\left(r w + \\frac{r w}{p^{5} + 2 p^{4} + 3 p^{3} + 3 p^{2} + 2 p + 1} - \\frac{r w}{p^{3} + p^{2} + p + 1} - \\frac{r w}{p^{2} + p + 1} \\right)} + p \\log{\\left(r \\right)} + p \\log{\\left(w - \\frac{w}{p^{3} + p^{2} + p + 1} \\right)} - p \\log{\\left(p^{2} + p + 1 \\right)} + \\log{\\left(w \\right)} - \\log{\\left(p^{3} + p^{2} + p + 1 \\right)}$"
     },
     "metadata": {},
     "execution_count": 149
    }
   ],
   "source": [
    "J[3]"
   ]
  },
  {
   "cell_type": "code",
   "execution_count": 5,
   "metadata": {},
   "outputs": [
    {
     "output_type": "execute_result",
     "data": {
      "text/plain": [
       "p**4*log(p) + 2*p**4*log(r) - p**4*log(p + 1) + p**4*log(r**2*w - r**2*w/(p**9 + 3*p**8 + 6*p**7 + 9*p**6 + 11*p**5 + 11*p**4 + 9*p**3 + 6*p**2 + 3*p + 1) + r**2*w/(p**7 + 2*p**6 + 3*p**5 + 4*p**4 + 4*p**3 + 3*p**2 + 2*p + 1) + r**2*w/(p**6 + 2*p**5 + 3*p**4 + 3*p**3 + 3*p**2 + 2*p + 1) + r**2*w/(p**5 + 2*p**4 + 3*p**3 + 3*p**2 + 2*p + 1) - r**2*w/(p**4 + p**3 + p**2 + p + 1) - r**2*w/(p**3 + p**2 + p + 1) - r**2*w/(p**2 + p + 1)) + p**3*log(r) - p**3*log(p + 1) + p**3*log(r**2*w - r**2*w/(p**9 + 3*p**8 + 6*p**7 + 9*p**6 + 11*p**5 + 11*p**4 + 9*p**3 + 6*p**2 + 3*p + 1) + r**2*w/(p**7 + 2*p**6 + 3*p**5 + 4*p**4 + 4*p**3 + 3*p**2 + 2*p + 1) + r**2*w/(p**6 + 2*p**5 + 3*p**4 + 3*p**3 + 3*p**2 + 2*p + 1) + r**2*w/(p**5 + 2*p**4 + 3*p**3 + 3*p**2 + 2*p + 1) - r**2*w/(p**4 + p**3 + p**2 + p + 1) - r**2*w/(p**3 + p**2 + p + 1) - r**2*w/(p**2 + p + 1)) + p**2*log(r) - p**2*log(p**2 + p + 1) + p**2*log(r*w + r*w/(p**7 + 2*p**6 + 3*p**5 + 4*p**4 + 4*p**3 + 3*p**2 + 2*p + 1) - r*w/(p**4 + p**3 + p**2 + p + 1) - r*w/(p**3 + p**2 + p + 1)) + p*log(r) + p*log(w - w/(p**4 + p**3 + p**2 + p + 1)) - p*log(p**3 + p**2 + p + 1) + log(w) - log(p**4 + p**3 + p**2 + p + 1)"
      ],
      "text/latex": "$\\displaystyle p^{4} \\log{\\left(p \\right)} + 2 p^{4} \\log{\\left(r \\right)} - p^{4} \\log{\\left(p + 1 \\right)} + p^{4} \\log{\\left(r^{2} w - \\frac{r^{2} w}{p^{9} + 3 p^{8} + 6 p^{7} + 9 p^{6} + 11 p^{5} + 11 p^{4} + 9 p^{3} + 6 p^{2} + 3 p + 1} + \\frac{r^{2} w}{p^{7} + 2 p^{6} + 3 p^{5} + 4 p^{4} + 4 p^{3} + 3 p^{2} + 2 p + 1} + \\frac{r^{2} w}{p^{6} + 2 p^{5} + 3 p^{4} + 3 p^{3} + 3 p^{2} + 2 p + 1} + \\frac{r^{2} w}{p^{5} + 2 p^{4} + 3 p^{3} + 3 p^{2} + 2 p + 1} - \\frac{r^{2} w}{p^{4} + p^{3} + p^{2} + p + 1} - \\frac{r^{2} w}{p^{3} + p^{2} + p + 1} - \\frac{r^{2} w}{p^{2} + p + 1} \\right)} + p^{3} \\log{\\left(r \\right)} - p^{3} \\log{\\left(p + 1 \\right)} + p^{3} \\log{\\left(r^{2} w - \\frac{r^{2} w}{p^{9} + 3 p^{8} + 6 p^{7} + 9 p^{6} + 11 p^{5} + 11 p^{4} + 9 p^{3} + 6 p^{2} + 3 p + 1} + \\frac{r^{2} w}{p^{7} + 2 p^{6} + 3 p^{5} + 4 p^{4} + 4 p^{3} + 3 p^{2} + 2 p + 1} + \\frac{r^{2} w}{p^{6} + 2 p^{5} + 3 p^{4} + 3 p^{3} + 3 p^{2} + 2 p + 1} + \\frac{r^{2} w}{p^{5} + 2 p^{4} + 3 p^{3} + 3 p^{2} + 2 p + 1} - \\frac{r^{2} w}{p^{4} + p^{3} + p^{2} + p + 1} - \\frac{r^{2} w}{p^{3} + p^{2} + p + 1} - \\frac{r^{2} w}{p^{2} + p + 1} \\right)} + p^{2} \\log{\\left(r \\right)} - p^{2} \\log{\\left(p^{2} + p + 1 \\right)} + p^{2} \\log{\\left(r w + \\frac{r w}{p^{7} + 2 p^{6} + 3 p^{5} + 4 p^{4} + 4 p^{3} + 3 p^{2} + 2 p + 1} - \\frac{r w}{p^{4} + p^{3} + p^{2} + p + 1} - \\frac{r w}{p^{3} + p^{2} + p + 1} \\right)} + p \\log{\\left(r \\right)} + p \\log{\\left(w - \\frac{w}{p^{4} + p^{3} + p^{2} + p + 1} \\right)} - p \\log{\\left(p^{3} + p^{2} + p + 1 \\right)} + \\log{\\left(w \\right)} - \\log{\\left(p^{4} + p^{3} + p^{2} + p + 1 \\right)}$"
     },
     "metadata": {},
     "execution_count": 5
    }
   ],
   "source": [
    "J[4]"
   ]
  },
  {
   "source": [
    "As you can see above, \n",
    "\n",
    "$J[t]$ = $\\Sigma^{t}_{i=0}p^i ln(w)$  + $ \\{ \\sum_{i=t-2}^{t} p^{t-i} \\sum_{j=0}^{t-2} p^j  + p^t ln(r) + [p^t ln(p) - p^t ln(p+1) - p^{t-1} ln(p+1)]- p^{t-2} ln(1+p+p^2) \\} $"
   ],
   "cell_type": "markdown",
   "metadata": {}
  },
  {
   "source": [
    "Which means tht $J[t] = \\Sigma^{t}_{i=0}p^i ln(w) + f_{T-t} (R_t,p)$\n",
    "\n",
    "Notice: for coding convenience, I use **p** to stand for $\\rho$"
   ],
   "cell_type": "markdown",
   "metadata": {}
  },
  {
   "cell_type": "code",
   "execution_count": null,
   "metadata": {},
   "outputs": [],
   "source": []
  }
 ]
}