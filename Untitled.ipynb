{
 "cells": [
  {
   "cell_type": "code",
   "execution_count": null,
   "metadata": {},
   "outputs": [],
   "source": [
    "#exercise 3\n",
    "import numpy as np\n",
    "import pandas as pd\n",
    "import matplotlib.pyplot as plt\n",
    "\n",
    "M = 500\n",
    "N = 10000\n",
    "v = 100\n",
    "table = []\n",
    "#3.a\n",
    "for i in range(M):\n",
    "    s = np.random.standard_t(v, N)\n",
    "    table.append(s)\n",
    "\n",
    "#3.b\n",
    "table = pd.DataFrame(table)\n",
    "print(table)\n",
    "draws = [4, 9, 99, 499, 999, 9999]\n",
    "serie = []\n",
    "results = []\n",
    "for i in draws:\n",
    "    for j in range(M):\n",
    "        serie.append(np.mean(table.iloc[j, :i]))\n",
    "    results.append(serie)\n",
    "print(results)\n",
    "\n",
    "#3.c\n",
    "results = []\n",
    "for i in range(N):\n",
    "    temp = []\n",
    "    temp.append(np.mean(table.iloc[:, i]))\n",
    "    temp.append(np.std(table.iloc[:, i]))\n",
    "    temp.append(np.var(table.iloc[:, i]))\n",
    "    results.append(temp)\n",
    "print(results)\n",
    "\n",
    "#3.d\n",
    "means_series = []\n",
    "for i in range(N):\n",
    "    means_series.append(np.mean(table.iloc[:, i]))\n",
    "plt.hist(means_series, bins=40)\n",
    "plt.show()"
   ]
  },
  {
   "cell_type": "markdown",
   "metadata": {},
   "source": [
    "# 3.e \n",
    "* CLT indicate that sum of large amount of random variable is approximately in normal distribution, and we can see that from (e).\n",
    "* LLN indicates that the mean of the sample will concerge to the expected value of the distribution, and we can see that from (b)\n",
    "\n",
    "# 3.f\n",
    "（f）change the value of v in the beginning of the python file can finish the task\n",
    "\n",
    "# 3.g\n",
    "with the df descending, the limiting of the sample mean mean will tend to fast, which meeans that with less sample the mean of the sample can reach the expected value."
   ]
  }
 ],
 "metadata": {
  "kernelspec": {
   "display_name": "Python 3",
   "language": "python",
   "name": "python3"
  },
  "language_info": {
   "codemirror_mode": {
    "name": "ipython",
    "version": 3
   },
   "file_extension": ".py",
   "mimetype": "text/x-python",
   "name": "python",
   "nbconvert_exporter": "python",
   "pygments_lexer": "ipython3",
   "version": "3.7.6"
  }
 },
 "nbformat": 4,
 "nbformat_minor": 4
}
