{
 "metadata": {
  "language_info": {
   "codemirror_mode": {
    "name": "ipython",
    "version": 3
   },
   "file_extension": ".py",
   "mimetype": "text/x-python",
   "name": "python",
   "nbconvert_exporter": "python",
   "pygments_lexer": "ipython3",
   "version": "3.7.6-final"
  },
  "orig_nbformat": 2,
  "kernelspec": {
   "name": "python3",
   "display_name": "Python 3",
   "language": "python"
  }
 },
 "nbformat": 4,
 "nbformat_minor": 2,
 "cells": [
  {
   "source": [
    "# Problem 1"
   ],
   "cell_type": "markdown",
   "metadata": {}
  },
  {
   "cell_type": "code",
   "execution_count": 47,
   "metadata": {},
   "outputs": [
    {
     "output_type": "execute_result",
     "data": {
      "text/plain": [
       "               PG          UN          HH         MKT          RF\n",
       "count  264.000000  264.000000  264.000000  264.000000  264.000000\n",
       "mean     0.009986    0.010493    0.008408    0.008219    0.002131\n",
       "std      0.056973    0.067521    0.042101    0.044154    0.001846\n",
       "min     -0.325779   -0.167535   -0.142600   -0.171500    0.000000\n",
       "25%     -0.020998   -0.024973   -0.013200   -0.018000    0.000100\n",
       "50%      0.012294    0.014835    0.011450    0.014400    0.001700\n",
       "75%      0.043510    0.047397    0.033825    0.037725    0.004000\n",
       "max      0.267136    0.296875    0.185400    0.113500    0.005600"
      ],
      "text/html": "<div>\n<style scoped>\n    .dataframe tbody tr th:only-of-type {\n        vertical-align: middle;\n    }\n\n    .dataframe tbody tr th {\n        vertical-align: top;\n    }\n\n    .dataframe thead th {\n        text-align: right;\n    }\n</style>\n<table border=\"1\" class=\"dataframe\">\n  <thead>\n    <tr style=\"text-align: right;\">\n      <th></th>\n      <th>PG</th>\n      <th>UN</th>\n      <th>HH</th>\n      <th>MKT</th>\n      <th>RF</th>\n    </tr>\n  </thead>\n  <tbody>\n    <tr>\n      <th>count</th>\n      <td>264.000000</td>\n      <td>264.000000</td>\n      <td>264.000000</td>\n      <td>264.000000</td>\n      <td>264.000000</td>\n    </tr>\n    <tr>\n      <th>mean</th>\n      <td>0.009986</td>\n      <td>0.010493</td>\n      <td>0.008408</td>\n      <td>0.008219</td>\n      <td>0.002131</td>\n    </tr>\n    <tr>\n      <th>std</th>\n      <td>0.056973</td>\n      <td>0.067521</td>\n      <td>0.042101</td>\n      <td>0.044154</td>\n      <td>0.001846</td>\n    </tr>\n    <tr>\n      <th>min</th>\n      <td>-0.325779</td>\n      <td>-0.167535</td>\n      <td>-0.142600</td>\n      <td>-0.171500</td>\n      <td>0.000000</td>\n    </tr>\n    <tr>\n      <th>25%</th>\n      <td>-0.020998</td>\n      <td>-0.024973</td>\n      <td>-0.013200</td>\n      <td>-0.018000</td>\n      <td>0.000100</td>\n    </tr>\n    <tr>\n      <th>50%</th>\n      <td>0.012294</td>\n      <td>0.014835</td>\n      <td>0.011450</td>\n      <td>0.014400</td>\n      <td>0.001700</td>\n    </tr>\n    <tr>\n      <th>75%</th>\n      <td>0.043510</td>\n      <td>0.047397</td>\n      <td>0.033825</td>\n      <td>0.037725</td>\n      <td>0.004000</td>\n    </tr>\n    <tr>\n      <th>max</th>\n      <td>0.267136</td>\n      <td>0.296875</td>\n      <td>0.185400</td>\n      <td>0.113500</td>\n      <td>0.005600</td>\n    </tr>\n  </tbody>\n</table>\n</div>"
     },
     "metadata": {},
     "execution_count": 47
    }
   ],
   "source": [
    "import pandas as pd  \n",
    "import numpy as np  \n",
    "import matplotlib.pyplot as plt  \n",
    "df = pd.read_csv(\"Data_PG_UN.csv\")\n",
    "df.describe()"
   ]
  },
  {
   "cell_type": "code",
   "execution_count": 30,
   "metadata": {},
   "outputs": [
    {
     "output_type": "stream",
     "name": "stdout",
     "text": [
      "                            OLS Regression Results                            \n==============================================================================\nDep. Variable:                      y   R-squared:                       0.001\nModel:                            OLS   Adj. R-squared:                 -0.003\nMethod:                 Least Squares   F-statistic:                    0.3089\nDate:                Wed, 17 Feb 2021   Prob (F-statistic):              0.579\nTime:                        23:31:19   Log-Likelihood:                 337.83\nNo. Observations:                 264   AIC:                            -671.7\nDf Residuals:                     262   BIC:                            -664.5\nDf Model:                           1                                         \nCovariance Type:            nonrobust                                         \n==============================================================================\n                 coef    std err          t      P>|t|      [0.025      0.975]\n------------------------------------------------------------------------------\nconst          0.0080      0.004      1.916      0.056      -0.000       0.016\n0              0.0524      0.094      0.556      0.579      -0.133       0.238\n==============================================================================\nOmnibus:                       13.564   Durbin-Watson:                   2.314\nProb(Omnibus):                  0.001   Jarque-Bera (JB):               29.592\nSkew:                           0.170   Prob(JB):                     3.75e-07\nKurtosis:                       4.604   Cond. No.                         22.7\n==============================================================================\n\nWarnings:\n[1] Standard Errors assume that the covariance matrix of the errors is correctly specified.\n"
     ]
    }
   ],
   "source": [
    "# I don't know which one is the R_UL, I use UN to stand for it.\n",
    "# Right Answer\n",
    "import statsmodels.api as sm\n",
    "y = df.UN - df.RF\n",
    "X = df.MKT - df.RF\n",
    "X = sm.add_constant(X)\n",
    "model = sm.OLS(y, X)\n",
    "fit = model.fit()\n",
    "print (fit.summary())"
   ]
  },
  {
   "cell_type": "code",
   "execution_count": 31,
   "metadata": {},
   "outputs": [],
   "source": [
    "# My Answer\n",
    "import numpy as np \n",
    "import pandas as pd \n",
    "from matplotlib import pyplot as plt\n",
    "df = pd.read_csv(\"Data_PG_UN.csv\")\n",
    "y = df.UN - df.RF\n",
    "X = df.MKT - df.RF\n",
    "def LinearRegression(x,y):\n",
    "    length = len(x)\n",
    "    x_mean = x.mean()\n",
    "    a = (y * (x - x_mean)).sum() / ((x ** 2).sum() - x.sum() ** 2 / length)\n",
    "    b = (y - a * x).sum() / length\n",
    "    return [a, b]\n",
    "beta, alpha = LinearRegression(X,y)\n",
    "yhat = alpha + beta * X"
   ]
  },
  {
   "cell_type": "code",
   "execution_count": 40,
   "metadata": {},
   "outputs": [],
   "source": [
    "SS_res = sum((yhat -y)**2)\n",
    "SS_tot = sum((y-y.mean())**2)\n",
    "RSquared = 1-SS_res/SS_tot\n",
    "n = len(X)\n",
    "AdRSquared = 1-(SS_res/(n-2-1))/(SS_tot/(n-1))"
   ]
  },
  {
   "cell_type": "code",
   "execution_count": 41,
   "metadata": {},
   "outputs": [
    {
     "output_type": "execute_result",
     "data": {
      "text/plain": [
       "(0.008043473175918806,\n",
       " 0.05242950285674815,\n",
       " 0.0011775864903335043,\n",
       " -0.006476225107441724)"
      ]
     },
     "metadata": {},
     "execution_count": 41
    }
   ],
   "source": [
    "alpha, beta, RSquared, AdRSquared"
   ]
  },
  {
   "source": [
    "(a) report the coefficient estimates, the $R^2$ and the $Adjusted-R^2$"
   ],
   "cell_type": "markdown",
   "metadata": {}
  },
  {
   "source": [
    "$\\alpha = 0.0080$ and $\\beta = 0.0524$\n",
    "\n",
    " $R^2 = 0.001$ \n",
    " \n",
    " ${Adjusted-R}^2 = -0.003$"
   ],
   "cell_type": "markdown",
   "metadata": {}
  },
  {
   "source": [
    "(b) Construct a scatterplot of UL returns on the y-axis and GRSP-VW returns on the x-axis as well as the regression line."
   ],
   "cell_type": "markdown",
   "metadata": {}
  },
  {
   "cell_type": "code",
   "execution_count": 44,
   "metadata": {},
   "outputs": [
    {
     "output_type": "display_data",
     "data": {
      "text/plain": "<Figure size 432x288 with 1 Axes>",
      "image/svg+xml": "<?xml version=\"1.0\" encoding=\"utf-8\" standalone=\"no\"?>\r\n<!DOCTYPE svg PUBLIC \"-//W3C//DTD SVG 1.1//EN\"\r\n  \"http://www.w3.org/Graphics/SVG/1.1/DTD/svg11.dtd\">\r\n<!-- Created with matplotlib (https://matplotlib.org/) -->\r\n<svg height=\"248.518125pt\" version=\"1.1\" viewBox=\"0 0 380.482812 248.518125\" width=\"380.482812pt\" xmlns=\"http://www.w3.org/2000/svg\" xmlns:xlink=\"http://www.w3.org/1999/xlink\">\r\n <defs>\r\n  <style type=\"text/css\">\r\n*{stroke-linecap:butt;stroke-linejoin:round;}\r\n  </style>\r\n </defs>\r\n <g id=\"figure_1\">\r\n  <g id=\"patch_1\">\r\n   <path d=\"M -0 248.518125 \r\nL 380.482812 248.518125 \r\nL 380.482812 0 \r\nL -0 0 \r\nz\r\n\" style=\"fill:none;\"/>\r\n  </g>\r\n  <g id=\"axes_1\">\r\n   <g id=\"patch_2\">\r\n    <path d=\"M 38.482813 224.64 \r\nL 373.282813 224.64 \r\nL 373.282813 7.2 \r\nL 38.482813 7.2 \r\nz\r\n\" style=\"fill:#ffffff;\"/>\r\n   </g>\r\n   <g id=\"PathCollection_1\">\r\n    <defs>\r\n     <path d=\"M 0 3 \r\nC 0.795609 3 1.55874 2.683901 2.12132 2.12132 \r\nC 2.683901 1.55874 3 0.795609 3 0 \r\nC 3 -0.795609 2.683901 -1.55874 2.12132 -2.12132 \r\nC 1.55874 -2.683901 0.795609 -3 0 -3 \r\nC -0.795609 -3 -1.55874 -2.683901 -2.12132 -2.12132 \r\nC -2.683901 -1.55874 -3 -0.795609 -3 0 \r\nC -3 0.795609 -2.683901 1.55874 -2.12132 2.12132 \r\nC -1.55874 2.683901 -0.795609 3 0 3 \r\nz\r\n\" id=\"m8fc8ff49e2\" style=\"stroke:#1f77b4;\"/>\r\n    </defs>\r\n    <g clip-path=\"url(#p899c55e734)\">\r\n     <use style=\"fill:#1f77b4;stroke:#1f77b4;\" x=\"266.369481\" xlink:href=\"#m8fc8ff49e2\" y=\"140.163077\"/>\r\n     <use style=\"fill:#1f77b4;stroke:#1f77b4;\" x=\"211.409003\" xlink:href=\"#m8fc8ff49e2\" y=\"133.676794\"/>\r\n     <use style=\"fill:#1f77b4;stroke:#1f77b4;\" x=\"189.706145\" xlink:href=\"#m8fc8ff49e2\" y=\"166.508999\"/>\r\n     <use style=\"fill:#1f77b4;stroke:#1f77b4;\" x=\"244.566147\" xlink:href=\"#m8fc8ff49e2\" y=\"177.153371\"/>\r\n     <use style=\"fill:#1f77b4;stroke:#1f77b4;\" x=\"243.96329\" xlink:href=\"#m8fc8ff49e2\" y=\"104.74739\"/>\r\n     <use style=\"fill:#1f77b4;stroke:#1f77b4;\" x=\"207.691384\" xlink:href=\"#m8fc8ff49e2\" y=\"160.742342\"/>\r\n     <use style=\"fill:#1f77b4;stroke:#1f77b4;\" x=\"266.168528\" xlink:href=\"#m8fc8ff49e2\" y=\"150.647199\"/>\r\n     <use style=\"fill:#1f77b4;stroke:#1f77b4;\" x=\"279.029481\" xlink:href=\"#m8fc8ff49e2\" y=\"115.084625\"/>\r\n     <use style=\"fill:#1f77b4;stroke:#1f77b4;\" x=\"215.528527\" xlink:href=\"#m8fc8ff49e2\" y=\"119.555919\"/>\r\n     <use style=\"fill:#1f77b4;stroke:#1f77b4;\" x=\"252.302814\" xlink:href=\"#m8fc8ff49e2\" y=\"143.666315\"/>\r\n     <use style=\"fill:#1f77b4;stroke:#1f77b4;\" x=\"198.146146\" xlink:href=\"#m8fc8ff49e2\" y=\"121.968947\"/>\r\n     <use style=\"fill:#1f77b4;stroke:#1f77b4;\" x=\"248.082814\" xlink:href=\"#m8fc8ff49e2\" y=\"167.322967\"/>\r\n     <use style=\"fill:#1f77b4;stroke:#1f77b4;\" x=\"257.326623\" xlink:href=\"#m8fc8ff49e2\" y=\"121.473431\"/>\r\n     <use style=\"fill:#1f77b4;stroke:#1f77b4;\" x=\"275.512814\" xlink:href=\"#m8fc8ff49e2\" y=\"134.990136\"/>\r\n     <use style=\"fill:#1f77b4;stroke:#1f77b4;\" x=\"261.546623\" xlink:href=\"#m8fc8ff49e2\" y=\"130.435434\"/>\r\n     <use style=\"fill:#1f77b4;stroke:#1f77b4;\" x=\"260.642338\" xlink:href=\"#m8fc8ff49e2\" y=\"106.804554\"/>\r\n     <use style=\"fill:#1f77b4;stroke:#1f77b4;\" x=\"269.584719\" xlink:href=\"#m8fc8ff49e2\" y=\"138.484686\"/>\r\n     <use style=\"fill:#1f77b4;stroke:#1f77b4;\" x=\"267.072814\" xlink:href=\"#m8fc8ff49e2\" y=\"156.018219\"/>\r\n     <use style=\"fill:#1f77b4;stroke:#1f77b4;\" x=\"276.919481\" xlink:href=\"#m8fc8ff49e2\" y=\"129.655603\"/>\r\n     <use style=\"fill:#1f77b4;stroke:#1f77b4;\" x=\"245.26948\" xlink:href=\"#m8fc8ff49e2\" y=\"141.902436\"/>\r\n     <use style=\"fill:#1f77b4;stroke:#1f77b4;\" x=\"273.000909\" xlink:href=\"#m8fc8ff49e2\" y=\"163.37129\"/>\r\n     <use style=\"fill:#1f77b4;stroke:#1f77b4;\" x=\"224.470908\" xlink:href=\"#m8fc8ff49e2\" y=\"122.866706\"/>\r\n     <use style=\"fill:#1f77b4;stroke:#1f77b4;\" x=\"278.929005\" xlink:href=\"#m8fc8ff49e2\" y=\"139.969087\"/>\r\n     <use style=\"fill:#1f77b4;stroke:#1f77b4;\" x=\"250.29329\" xlink:href=\"#m8fc8ff49e2\" y=\"125.776837\"/>\r\n     <use style=\"fill:#1f77b4;stroke:#1f77b4;\" x=\"262.049004\" xlink:href=\"#m8fc8ff49e2\" y=\"115.068039\"/>\r\n     <use style=\"fill:#1f77b4;stroke:#1f77b4;\" x=\"252.302814\" xlink:href=\"#m8fc8ff49e2\" y=\"139.806231\"/>\r\n     <use style=\"fill:#1f77b4;stroke:#1f77b4;\" x=\"246.274242\" xlink:href=\"#m8fc8ff49e2\" y=\"171.096856\"/>\r\n     <use style=\"fill:#1f77b4;stroke:#1f77b4;\" x=\"260.340909\" xlink:href=\"#m8fc8ff49e2\" y=\"134.781727\"/>\r\n     <use style=\"fill:#1f77b4;stroke:#1f77b4;\" x=\"262.95329\" xlink:href=\"#m8fc8ff49e2\" y=\"144.112002\"/>\r\n     <use style=\"fill:#1f77b4;stroke:#1f77b4;\" x=\"227.58567\" xlink:href=\"#m8fc8ff49e2\" y=\"136.187432\"/>\r\n     <use style=\"fill:#1f77b4;stroke:#1f77b4;\" x=\"179.55805\" xlink:href=\"#m8fc8ff49e2\" y=\"108.701459\"/>\r\n     <use style=\"fill:#1f77b4;stroke:#1f77b4;\" x=\"266.871862\" xlink:href=\"#m8fc8ff49e2\" y=\"148.449074\"/>\r\n     <use style=\"fill:#1f77b4;stroke:#1f77b4;\" x=\"289.88091\" xlink:href=\"#m8fc8ff49e2\" y=\"131.04396\"/>\r\n     <use style=\"fill:#1f77b4;stroke:#1f77b4;\" x=\"247.881861\" xlink:href=\"#m8fc8ff49e2\" y=\"113.935283\"/>\r\n     <use style=\"fill:#1f77b4;stroke:#1f77b4;\" x=\"301.938053\" xlink:href=\"#m8fc8ff49e2\" y=\"151.149455\"/>\r\n     <use style=\"fill:#1f77b4;stroke:#1f77b4;\" x=\"222.561861\" xlink:href=\"#m8fc8ff49e2\" y=\"96.897401\"/>\r\n     <use style=\"fill:#1f77b4;stroke:#1f77b4;\" x=\"289.679957\" xlink:href=\"#m8fc8ff49e2\" y=\"132.730885\"/>\r\n     <use style=\"fill:#1f77b4;stroke:#1f77b4;\" x=\"234.016147\" xlink:href=\"#m8fc8ff49e2\" y=\"162.150128\"/>\r\n     <use style=\"fill:#1f77b4;stroke:#1f77b4;\" x=\"188.80186\" xlink:href=\"#m8fc8ff49e2\" y=\"91.033616\"/>\r\n     <use style=\"fill:#1f77b4;stroke:#1f77b4;\" x=\"279.933767\" xlink:href=\"#m8fc8ff49e2\" y=\"145.146901\"/>\r\n     <use style=\"fill:#1f77b4;stroke:#1f77b4;\" x=\"307.665196\" xlink:href=\"#m8fc8ff49e2\" y=\"117.916327\"/>\r\n     <use style=\"fill:#1f77b4;stroke:#1f77b4;\" x=\"279.933767\" xlink:href=\"#m8fc8ff49e2\" y=\"138.277708\"/>\r\n     <use style=\"fill:#1f77b4;stroke:#1f77b4;\" x=\"312.990434\" xlink:href=\"#m8fc8ff49e2\" y=\"97.232436\"/>\r\n     <use style=\"fill:#1f77b4;stroke:#1f77b4;\" x=\"197.442812\" xlink:href=\"#m8fc8ff49e2\" y=\"125.520353\"/>\r\n     <use style=\"fill:#1f77b4;stroke:#1f77b4;\" x=\"293.196624\" xlink:href=\"#m8fc8ff49e2\" y=\"153.623904\"/>\r\n     <use style=\"fill:#1f77b4;stroke:#1f77b4;\" x=\"201.059955\" xlink:href=\"#m8fc8ff49e2\" y=\"146.272062\"/>\r\n     <use style=\"fill:#1f77b4;stroke:#1f77b4;\" x=\"268.881386\" xlink:href=\"#m8fc8ff49e2\" y=\"133.067294\"/>\r\n     <use style=\"fill:#1f77b4;stroke:#1f77b4;\" x=\"253.106623\" xlink:href=\"#m8fc8ff49e2\" y=\"110.741952\"/>\r\n     <use style=\"fill:#1f77b4;stroke:#1f77b4;\" x=\"240.848528\" xlink:href=\"#m8fc8ff49e2\" y=\"115.542824\"/>\r\n     <use style=\"fill:#1f77b4;stroke:#1f77b4;\" x=\"309.574244\" xlink:href=\"#m8fc8ff49e2\" y=\"173.421802\"/>\r\n     <use style=\"fill:#1f77b4;stroke:#1f77b4;\" x=\"286.766148\" xlink:href=\"#m8fc8ff49e2\" y=\"95.144657\"/>\r\n     <use style=\"fill:#1f77b4;stroke:#1f77b4;\" x=\"246.676147\" xlink:href=\"#m8fc8ff49e2\" y=\"99.631095\"/>\r\n     <use style=\"fill:#1f77b4;stroke:#1f77b4;\" x=\"208.193765\" xlink:href=\"#m8fc8ff49e2\" y=\"101.549997\"/>\r\n     <use style=\"fill:#1f77b4;stroke:#1f77b4;\" x=\"271.091862\" xlink:href=\"#m8fc8ff49e2\" y=\"133.873266\"/>\r\n     <use style=\"fill:#1f77b4;stroke:#1f77b4;\" x=\"214.322813\" xlink:href=\"#m8fc8ff49e2\" y=\"135.905746\"/>\r\n     <use style=\"fill:#1f77b4;stroke:#1f77b4;\" x=\"77.775666\" xlink:href=\"#m8fc8ff49e2\" y=\"197.25481\"/>\r\n     <use style=\"fill:#1f77b4;stroke:#1f77b4;\" x=\"301.435672\" xlink:href=\"#m8fc8ff49e2\" y=\"147.672877\"/>\r\n     <use style=\"fill:#1f77b4;stroke:#1f77b4;\" x=\"309.875672\" xlink:href=\"#m8fc8ff49e2\" y=\"192.398181\"/>\r\n     <use style=\"fill:#1f77b4;stroke:#1f77b4;\" x=\"299.426148\" xlink:href=\"#m8fc8ff49e2\" y=\"22.626827\"/>\r\n     <use style=\"fill:#1f77b4;stroke:#1f77b4;\" x=\"300.732339\" xlink:href=\"#m8fc8ff49e2\" y=\"147.49067\"/>\r\n     <use style=\"fill:#1f77b4;stroke:#1f77b4;\" x=\"273.704243\" xlink:href=\"#m8fc8ff49e2\" y=\"103.042734\"/>\r\n     <use style=\"fill:#1f77b4;stroke:#1f77b4;\" x=\"197.543288\" xlink:href=\"#m8fc8ff49e2\" y=\"175.533394\"/>\r\n     <use style=\"fill:#1f77b4;stroke:#1f77b4;\" x=\"274.005671\" xlink:href=\"#m8fc8ff49e2\" y=\"166.152906\"/>\r\n     <use style=\"fill:#1f77b4;stroke:#1f77b4;\" x=\"282.244719\" xlink:href=\"#m8fc8ff49e2\" y=\"171.895774\"/>\r\n     <use style=\"fill:#1f77b4;stroke:#1f77b4;\" x=\"213.719956\" xlink:href=\"#m8fc8ff49e2\" y=\"133.610609\"/>\r\n     <use style=\"fill:#1f77b4;stroke:#1f77b4;\" x=\"286.9671\" xlink:href=\"#m8fc8ff49e2\" y=\"142.008813\"/>\r\n     <use style=\"fill:#1f77b4;stroke:#1f77b4;\" x=\"203.973765\" xlink:href=\"#m8fc8ff49e2\" y=\"134.046595\"/>\r\n     <use style=\"fill:#1f77b4;stroke:#1f77b4;\" x=\"225.073765\" xlink:href=\"#m8fc8ff49e2\" y=\"128.69354\"/>\r\n     <use style=\"fill:#1f77b4;stroke:#1f77b4;\" x=\"210.70567\" xlink:href=\"#m8fc8ff49e2\" y=\"148.651845\"/>\r\n     <use style=\"fill:#1f77b4;stroke:#1f77b4;\" x=\"300.531386\" xlink:href=\"#m8fc8ff49e2\" y=\"156.354704\"/>\r\n     <use style=\"fill:#1f77b4;stroke:#1f77b4;\" x=\"272.498528\" xlink:href=\"#m8fc8ff49e2\" y=\"148.6486\"/>\r\n     <use style=\"fill:#1f77b4;stroke:#1f77b4;\" x=\"317.009482\" xlink:href=\"#m8fc8ff49e2\" y=\"209.213173\"/>\r\n     <use style=\"fill:#1f77b4;stroke:#1f77b4;\" x=\"191.514717\" xlink:href=\"#m8fc8ff49e2\" y=\"146.053889\"/>\r\n     <use style=\"fill:#1f77b4;stroke:#1f77b4;\" x=\"263.958052\" xlink:href=\"#m8fc8ff49e2\" y=\"209.019582\"/>\r\n     <use style=\"fill:#1f77b4;stroke:#1f77b4;\" x=\"291.99091\" xlink:href=\"#m8fc8ff49e2\" y=\"122.876911\"/>\r\n     <use style=\"fill:#1f77b4;stroke:#1f77b4;\" x=\"175.33805\" xlink:href=\"#m8fc8ff49e2\" y=\"120.531741\"/>\r\n     <use style=\"fill:#1f77b4;stroke:#1f77b4;\" x=\"195.634241\" xlink:href=\"#m8fc8ff49e2\" y=\"176.397949\"/>\r\n     <use style=\"fill:#1f77b4;stroke:#1f77b4;\" x=\"285.66091\" xlink:href=\"#m8fc8ff49e2\" y=\"88.94044\"/>\r\n     <use style=\"fill:#1f77b4;stroke:#1f77b4;\" x=\"214.624241\" xlink:href=\"#m8fc8ff49e2\" y=\"175.341664\"/>\r\n     <use style=\"fill:#1f77b4;stroke:#1f77b4;\" x=\"310.679482\" xlink:href=\"#m8fc8ff49e2\" y=\"150.612793\"/>\r\n     <use style=\"fill:#1f77b4;stroke:#1f77b4;\" x=\"185.385669\" xlink:href=\"#m8fc8ff49e2\" y=\"127.990822\"/>\r\n     <use style=\"fill:#1f77b4;stroke:#1f77b4;\" x=\"212.916146\" xlink:href=\"#m8fc8ff49e2\" y=\"127.918354\"/>\r\n     <use style=\"fill:#1f77b4;stroke:#1f77b4;\" x=\"132.434715\" xlink:href=\"#m8fc8ff49e2\" y=\"114.355639\"/>\r\n     <use style=\"fill:#1f77b4;stroke:#1f77b4;\" x=\"252.001385\" xlink:href=\"#m8fc8ff49e2\" y=\"58.427567\"/>\r\n     <use style=\"fill:#1f77b4;stroke:#1f77b4;\" x=\"271.895671\" xlink:href=\"#m8fc8ff49e2\" y=\"124.028035\"/>\r\n     <use style=\"fill:#1f77b4;stroke:#1f77b4;\" x=\"137.86043\" xlink:href=\"#m8fc8ff49e2\" y=\"187.5946\"/>\r\n     <use style=\"fill:#1f77b4;stroke:#1f77b4;\" x=\"166.295192\" xlink:href=\"#m8fc8ff49e2\" y=\"139.936268\"/>\r\n     <use style=\"fill:#1f77b4;stroke:#1f77b4;\" x=\"318.717577\" xlink:href=\"#m8fc8ff49e2\" y=\"177.328128\"/>\r\n     <use style=\"fill:#1f77b4;stroke:#1f77b4;\" x=\"245.470433\" xlink:href=\"#m8fc8ff49e2\" y=\"99.602748\"/>\r\n     <use style=\"fill:#1f77b4;stroke:#1f77b4;\" x=\"218.34186\" xlink:href=\"#m8fc8ff49e2\" y=\"151.303178\"/>\r\n     <use style=\"fill:#1f77b4;stroke:#1f77b4;\" x=\"216.633765\" xlink:href=\"#m8fc8ff49e2\" y=\"106.558193\"/>\r\n     <use style=\"fill:#1f77b4;stroke:#1f77b4;\" x=\"173.22805\" xlink:href=\"#m8fc8ff49e2\" y=\"148.200933\"/>\r\n     <use style=\"fill:#1f77b4;stroke:#1f77b4;\" x=\"144.893763\" xlink:href=\"#m8fc8ff49e2\" y=\"137.928415\"/>\r\n     <use style=\"fill:#1f77b4;stroke:#1f77b4;\" x=\"261.948528\" xlink:href=\"#m8fc8ff49e2\" y=\"191.256754\"/>\r\n     <use style=\"fill:#1f77b4;stroke:#1f77b4;\" x=\"312.488053\" xlink:href=\"#m8fc8ff49e2\" y=\"146.388399\"/>\r\n     <use style=\"fill:#1f77b4;stroke:#1f77b4;\" x=\"252.704718\" xlink:href=\"#m8fc8ff49e2\" y=\"102.183598\"/>\r\n     <use style=\"fill:#1f77b4;stroke:#1f77b4;\" x=\"221.959003\" xlink:href=\"#m8fc8ff49e2\" y=\"134.423132\"/>\r\n     <use style=\"fill:#1f77b4;stroke:#1f77b4;\" x=\"213.318051\" xlink:href=\"#m8fc8ff49e2\" y=\"150.699739\"/>\r\n     <use style=\"fill:#1f77b4;stroke:#1f77b4;\" x=\"278.929005\" xlink:href=\"#m8fc8ff49e2\" y=\"127.242379\"/>\r\n     <use style=\"fill:#1f77b4;stroke:#1f77b4;\" x=\"184.280431\" xlink:href=\"#m8fc8ff49e2\" y=\"151.331779\"/>\r\n     <use style=\"fill:#1f77b4;stroke:#1f77b4;\" x=\"222.561861\" xlink:href=\"#m8fc8ff49e2\" y=\"86.765608\"/>\r\n     <use style=\"fill:#1f77b4;stroke:#1f77b4;\" x=\"163.883764\" xlink:href=\"#m8fc8ff49e2\" y=\"136.482263\"/>\r\n     <use style=\"fill:#1f77b4;stroke:#1f77b4;\" x=\"154.338525\" xlink:href=\"#m8fc8ff49e2\" y=\"136.976424\"/>\r\n     <use style=\"fill:#1f77b4;stroke:#1f77b4;\" x=\"241.451385\" xlink:href=\"#m8fc8ff49e2\" y=\"202.122396\"/>\r\n     <use style=\"fill:#1f77b4;stroke:#1f77b4;\" x=\"132.434715\" xlink:href=\"#m8fc8ff49e2\" y=\"135.462656\"/>\r\n     <use style=\"fill:#1f77b4;stroke:#1f77b4;\" x=\"315.200911\" xlink:href=\"#m8fc8ff49e2\" y=\"108.098786\"/>\r\n     <use style=\"fill:#1f77b4;stroke:#1f77b4;\" x=\"296.110434\" xlink:href=\"#m8fc8ff49e2\" y=\"122.219884\"/>\r\n     <use style=\"fill:#1f77b4;stroke:#1f77b4;\" x=\"178.251859\" xlink:href=\"#m8fc8ff49e2\" y=\"182.71743\"/>\r\n     <use style=\"fill:#1f77b4;stroke:#1f77b4;\" x=\"210.203289\" xlink:href=\"#m8fc8ff49e2\" y=\"113.403327\"/>\r\n     <use style=\"fill:#1f77b4;stroke:#1f77b4;\" x=\"217.03567\" xlink:href=\"#m8fc8ff49e2\" y=\"177.600888\"/>\r\n     <use style=\"fill:#1f77b4;stroke:#1f77b4;\" x=\"246.977575\" xlink:href=\"#m8fc8ff49e2\" y=\"141.261287\"/>\r\n     <use style=\"fill:#1f77b4;stroke:#1f77b4;\" x=\"318.617101\" xlink:href=\"#m8fc8ff49e2\" y=\"114.093667\"/>\r\n     <use style=\"fill:#1f77b4;stroke:#1f77b4;\" x=\"296.713291\" xlink:href=\"#m8fc8ff49e2\" y=\"122.678482\"/>\r\n     <use style=\"fill:#1f77b4;stroke:#1f77b4;\" x=\"250.29329\" xlink:href=\"#m8fc8ff49e2\" y=\"158.220581\"/>\r\n     <use style=\"fill:#1f77b4;stroke:#1f77b4;\" x=\"259.336147\" xlink:href=\"#m8fc8ff49e2\" y=\"181.666933\"/>\r\n     <use style=\"fill:#1f77b4;stroke:#1f77b4;\" x=\"259.235671\" xlink:href=\"#m8fc8ff49e2\" y=\"122.838345\"/>\r\n     <use style=\"fill:#1f77b4;stroke:#1f77b4;\" x=\"223.36567\" xlink:href=\"#m8fc8ff49e2\" y=\"143.550556\"/>\r\n     <use style=\"fill:#1f77b4;stroke:#1f77b4;\" x=\"296.813767\" xlink:href=\"#m8fc8ff49e2\" y=\"111.97108\"/>\r\n     <use style=\"fill:#1f77b4;stroke:#1f77b4;\" x=\"249.288528\" xlink:href=\"#m8fc8ff49e2\" y=\"151.611791\"/>\r\n     <use style=\"fill:#1f77b4;stroke:#1f77b4;\" x=\"278.929005\" xlink:href=\"#m8fc8ff49e2\" y=\"124.912649\"/>\r\n     <use style=\"fill:#1f77b4;stroke:#1f77b4;\" x=\"257.326623\" xlink:href=\"#m8fc8ff49e2\" y=\"111.191703\"/>\r\n     <use style=\"fill:#1f77b4;stroke:#1f77b4;\" x=\"249.690433\" xlink:href=\"#m8fc8ff49e2\" y=\"127.173368\"/>\r\n     <use style=\"fill:#1f77b4;stroke:#1f77b4;\" x=\"222.662337\" xlink:href=\"#m8fc8ff49e2\" y=\"102.74019\"/>\r\n     <use style=\"fill:#1f77b4;stroke:#1f77b4;\" x=\"217.437575\" xlink:href=\"#m8fc8ff49e2\" y=\"168.230151\"/>\r\n     <use style=\"fill:#1f77b4;stroke:#1f77b4;\" x=\"247.37948\" xlink:href=\"#m8fc8ff49e2\" y=\"153.661126\"/>\r\n     <use style=\"fill:#1f77b4;stroke:#1f77b4;\" x=\"254.51329\" xlink:href=\"#m8fc8ff49e2\" y=\"140.043095\"/>\r\n     <use style=\"fill:#1f77b4;stroke:#1f77b4;\" x=\"195.232336\" xlink:href=\"#m8fc8ff49e2\" y=\"126.691738\"/>\r\n     <use style=\"fill:#1f77b4;stroke:#1f77b4;\" x=\"236.929956\" xlink:href=\"#m8fc8ff49e2\" y=\"184.398406\"/>\r\n     <use style=\"fill:#1f77b4;stroke:#1f77b4;\" x=\"252.202337\" xlink:href=\"#m8fc8ff49e2\" y=\"144.14048\"/>\r\n     <use style=\"fill:#1f77b4;stroke:#1f77b4;\" x=\"250.494242\" xlink:href=\"#m8fc8ff49e2\" y=\"158.118734\"/>\r\n     <use style=\"fill:#1f77b4;stroke:#1f77b4;\" x=\"282.144243\" xlink:href=\"#m8fc8ff49e2\" y=\"133.559209\"/>\r\n     <use style=\"fill:#1f77b4;stroke:#1f77b4;\" x=\"271.091862\" xlink:href=\"#m8fc8ff49e2\" y=\"107.699049\"/>\r\n     <use style=\"fill:#1f77b4;stroke:#1f77b4;\" x=\"208.897098\" xlink:href=\"#m8fc8ff49e2\" y=\"125.041469\"/>\r\n     <use style=\"fill:#1f77b4;stroke:#1f77b4;\" x=\"255.618528\" xlink:href=\"#m8fc8ff49e2\" y=\"145.706417\"/>\r\n     <use style=\"fill:#1f77b4;stroke:#1f77b4;\" x=\"217.337099\" xlink:href=\"#m8fc8ff49e2\" y=\"131.356699\"/>\r\n     <use style=\"fill:#1f77b4;stroke:#1f77b4;\" x=\"210.906622\" xlink:href=\"#m8fc8ff49e2\" y=\"143.922113\"/>\r\n     <use style=\"fill:#1f77b4;stroke:#1f77b4;\" x=\"274.106148\" xlink:href=\"#m8fc8ff49e2\" y=\"159.393961\"/>\r\n     <use style=\"fill:#1f77b4;stroke:#1f77b4;\" x=\"243.059004\" xlink:href=\"#m8fc8ff49e2\" y=\"115.096828\"/>\r\n     <use style=\"fill:#1f77b4;stroke:#1f77b4;\" x=\"276.819005\" xlink:href=\"#m8fc8ff49e2\" y=\"155.145043\"/>\r\n     <use style=\"fill:#1f77b4;stroke:#1f77b4;\" x=\"225.777099\" xlink:href=\"#m8fc8ff49e2\" y=\"124.118899\"/>\r\n     <use style=\"fill:#1f77b4;stroke:#1f77b4;\" x=\"242.858052\" xlink:href=\"#m8fc8ff49e2\" y=\"129.026403\"/>\r\n     <use style=\"fill:#1f77b4;stroke:#1f77b4;\" x=\"217.437575\" xlink:href=\"#m8fc8ff49e2\" y=\"133.048193\"/>\r\n     <use style=\"fill:#1f77b4;stroke:#1f77b4;\" x=\"274.407576\" xlink:href=\"#m8fc8ff49e2\" y=\"148.484205\"/>\r\n     <use style=\"fill:#1f77b4;stroke:#1f77b4;\" x=\"235.724242\" xlink:href=\"#m8fc8ff49e2\" y=\"151.856316\"/>\r\n     <use style=\"fill:#1f77b4;stroke:#1f77b4;\" x=\"269.082338\" xlink:href=\"#m8fc8ff49e2\" y=\"129.384066\"/>\r\n     <use style=\"fill:#1f77b4;stroke:#1f77b4;\" x=\"235.422813\" xlink:href=\"#m8fc8ff49e2\" y=\"131.833776\"/>\r\n     <use style=\"fill:#1f77b4;stroke:#1f77b4;\" x=\"253.408052\" xlink:href=\"#m8fc8ff49e2\" y=\"149.76053\"/>\r\n     <use style=\"fill:#1f77b4;stroke:#1f77b4;\" x=\"245.972814\" xlink:href=\"#m8fc8ff49e2\" y=\"146.367838\"/>\r\n     <use style=\"fill:#1f77b4;stroke:#1f77b4;\" x=\"203.471384\" xlink:href=\"#m8fc8ff49e2\" y=\"127.602973\"/>\r\n     <use style=\"fill:#1f77b4;stroke:#1f77b4;\" x=\"235.523289\" xlink:href=\"#m8fc8ff49e2\" y=\"155.873476\"/>\r\n     <use style=\"fill:#1f77b4;stroke:#1f77b4;\" x=\"231.202813\" xlink:href=\"#m8fc8ff49e2\" y=\"140.480859\"/>\r\n     <use style=\"fill:#1f77b4;stroke:#1f77b4;\" x=\"259.637576\" xlink:href=\"#m8fc8ff49e2\" y=\"121.362388\"/>\r\n     <use style=\"fill:#1f77b4;stroke:#1f77b4;\" x=\"257.628052\" xlink:href=\"#m8fc8ff49e2\" y=\"141.060183\"/>\r\n     <use style=\"fill:#1f77b4;stroke:#1f77b4;\" x=\"271.594243\" xlink:href=\"#m8fc8ff49e2\" y=\"131.984243\"/>\r\n     <use style=\"fill:#1f77b4;stroke:#1f77b4;\" x=\"256.422338\" xlink:href=\"#m8fc8ff49e2\" y=\"141.902436\"/>\r\n     <use style=\"fill:#1f77b4;stroke:#1f77b4;\" x=\"247.781385\" xlink:href=\"#m8fc8ff49e2\" y=\"112.700637\"/>\r\n     <use style=\"fill:#1f77b4;stroke:#1f77b4;\" x=\"253.508528\" xlink:href=\"#m8fc8ff49e2\" y=\"124.161549\"/>\r\n     <use style=\"fill:#1f77b4;stroke:#1f77b4;\" x=\"219.14567\" xlink:href=\"#m8fc8ff49e2\" y=\"148.20069\"/>\r\n     <use style=\"fill:#1f77b4;stroke:#1f77b4;\" x=\"246.173766\" xlink:href=\"#m8fc8ff49e2\" y=\"161.842167\"/>\r\n     <use style=\"fill:#1f77b4;stroke:#1f77b4;\" x=\"274.508052\" xlink:href=\"#m8fc8ff49e2\" y=\"86.788159\"/>\r\n     <use style=\"fill:#1f77b4;stroke:#1f77b4;\" x=\"271.694719\" xlink:href=\"#m8fc8ff49e2\" y=\"125.104641\"/>\r\n     <use style=\"fill:#1f77b4;stroke:#1f77b4;\" x=\"219.346622\" xlink:href=\"#m8fc8ff49e2\" y=\"139.740458\"/>\r\n     <use style=\"fill:#1f77b4;stroke:#1f77b4;\" x=\"201.562336\" xlink:href=\"#m8fc8ff49e2\" y=\"122.169649\"/>\r\n     <use style=\"fill:#1f77b4;stroke:#1f77b4;\" x=\"248.484718\" xlink:href=\"#m8fc8ff49e2\" y=\"161.095295\"/>\r\n     <use style=\"fill:#1f77b4;stroke:#1f77b4;\" x=\"270.589481\" xlink:href=\"#m8fc8ff49e2\" y=\"130.346475\"/>\r\n     <use style=\"fill:#1f77b4;stroke:#1f77b4;\" x=\"256.321861\" xlink:href=\"#m8fc8ff49e2\" y=\"135.110482\"/>\r\n     <use style=\"fill:#1f77b4;stroke:#1f77b4;\" x=\"189.907098\" xlink:href=\"#m8fc8ff49e2\" y=\"112.23206\"/>\r\n     <use style=\"fill:#1f77b4;stroke:#1f77b4;\" x=\"228.992337\" xlink:href=\"#m8fc8ff49e2\" y=\"119.884793\"/>\r\n     <use style=\"fill:#1f77b4;stroke:#1f77b4;\" x=\"173.22805\" xlink:href=\"#m8fc8ff49e2\" y=\"127.917823\"/>\r\n     <use style=\"fill:#1f77b4;stroke:#1f77b4;\" x=\"205.279955\" xlink:href=\"#m8fc8ff49e2\" y=\"175.466382\"/>\r\n     <use style=\"fill:#1f77b4;stroke:#1f77b4;\" x=\"227.384718\" xlink:href=\"#m8fc8ff49e2\" y=\"169.581567\"/>\r\n     <use style=\"fill:#1f77b4;stroke:#1f77b4;\" x=\"283.048529\" xlink:href=\"#m8fc8ff49e2\" y=\"95.559291\"/>\r\n     <use style=\"fill:#1f77b4;stroke:#1f77b4;\" x=\"255.518052\" xlink:href=\"#m8fc8ff49e2\" y=\"152.377358\"/>\r\n     <use style=\"fill:#1f77b4;stroke:#1f77b4;\" x=\"151.927097\" xlink:href=\"#m8fc8ff49e2\" y=\"147.21843\"/>\r\n     <use style=\"fill:#1f77b4;stroke:#1f77b4;\" x=\"228.791385\" xlink:href=\"#m8fc8ff49e2\" y=\"194.382615\"/>\r\n     <use style=\"fill:#1f77b4;stroke:#1f77b4;\" x=\"251.699957\" xlink:href=\"#m8fc8ff49e2\" y=\"159.841167\"/>\r\n     <use style=\"fill:#1f77b4;stroke:#1f77b4;\" x=\"143.688049\" xlink:href=\"#m8fc8ff49e2\" y=\"126.105815\"/>\r\n     <use style=\"fill:#1f77b4;stroke:#1f77b4;\" x=\"62.704237\" xlink:href=\"#m8fc8ff49e2\" y=\"132.86905\"/>\r\n     <use style=\"fill:#1f77b4;stroke:#1f77b4;\" x=\"156.348049\" xlink:href=\"#m8fc8ff49e2\" y=\"202.623778\"/>\r\n     <use style=\"fill:#1f77b4;stroke:#1f77b4;\" x=\"252.503766\" xlink:href=\"#m8fc8ff49e2\" y=\"183.482193\"/>\r\n     <use style=\"fill:#1f77b4;stroke:#1f77b4;\" x=\"153.43424\" xlink:href=\"#m8fc8ff49e2\" y=\"73.944978\"/>\r\n     <use style=\"fill:#1f77b4;stroke:#1f77b4;\" x=\"133.64043\" xlink:href=\"#m8fc8ff49e2\" y=\"193.161698\"/>\r\n     <use style=\"fill:#1f77b4;stroke:#1f77b4;\" x=\"325.148054\" xlink:href=\"#m8fc8ff49e2\" y=\"207.430383\"/>\r\n     <use style=\"fill:#1f77b4;stroke:#1f77b4;\" x=\"337.506625\" xlink:href=\"#m8fc8ff49e2\" y=\"109.970767\"/>\r\n     <use style=\"fill:#1f77b4;stroke:#1f77b4;\" x=\"287.369005\" xlink:href=\"#m8fc8ff49e2\" y=\"140.686802\"/>\r\n     <use style=\"fill:#1f77b4;stroke:#1f77b4;\" x=\"239.441861\" xlink:href=\"#m8fc8ff49e2\" y=\"35.544709\"/>\r\n     <use style=\"fill:#1f77b4;stroke:#1f77b4;\" x=\"312.689006\" xlink:href=\"#m8fc8ff49e2\" y=\"135.332152\"/>\r\n     <use style=\"fill:#1f77b4;stroke:#1f77b4;\" x=\"268.579957\" xlink:href=\"#m8fc8ff49e2\" y=\"99.721423\"/>\r\n     <use style=\"fill:#1f77b4;stroke:#1f77b4;\" x=\"276.115671\" xlink:href=\"#m8fc8ff49e2\" y=\"145.120088\"/>\r\n     <use style=\"fill:#1f77b4;stroke:#1f77b4;\" x=\"208.997574\" xlink:href=\"#m8fc8ff49e2\" y=\"123.472604\"/>\r\n     <use style=\"fill:#1f77b4;stroke:#1f77b4;\" x=\"290.885672\" xlink:href=\"#m8fc8ff49e2\" y=\"107.787193\"/>\r\n     <use style=\"fill:#1f77b4;stroke:#1f77b4;\" x=\"262.752338\" xlink:href=\"#m8fc8ff49e2\" y=\"125.979282\"/>\r\n     <use style=\"fill:#1f77b4;stroke:#1f77b4;\" x=\"201.260908\" xlink:href=\"#m8fc8ff49e2\" y=\"126.9705\"/>\r\n     <use style=\"fill:#1f77b4;stroke:#1f77b4;\" x=\"269.182814\" xlink:href=\"#m8fc8ff49e2\" y=\"167.157975\"/>\r\n     <use style=\"fill:#1f77b4;stroke:#1f77b4;\" x=\"298.521862\" xlink:href=\"#m8fc8ff49e2\" y=\"145.384367\"/>\r\n     <use style=\"fill:#1f77b4;stroke:#1f77b4;\" x=\"255.216623\" xlink:href=\"#m8fc8ff49e2\" y=\"128.912154\"/>\r\n     <use style=\"fill:#1f77b4;stroke:#1f77b4;\" x=\"155.845668\" xlink:href=\"#m8fc8ff49e2\" y=\"152.174634\"/>\r\n     <use style=\"fill:#1f77b4;stroke:#1f77b4;\" x=\"179.256621\" xlink:href=\"#m8fc8ff49e2\" y=\"181.282669\"/>\r\n     <use style=\"fill:#1f77b4;stroke:#1f77b4;\" x=\"304.751386\" xlink:href=\"#m8fc8ff49e2\" y=\"137.477635\"/>\r\n     <use style=\"fill:#1f77b4;stroke:#1f77b4;\" x=\"187.194241\" xlink:href=\"#m8fc8ff49e2\" y=\"107.765107\"/>\r\n     <use style=\"fill:#1f77b4;stroke:#1f77b4;\" x=\"330.975673\" xlink:href=\"#m8fc8ff49e2\" y=\"170.561548\"/>\r\n     <use style=\"fill:#1f77b4;stroke:#1f77b4;\" x=\"274.106148\" xlink:href=\"#m8fc8ff49e2\" y=\"106.374706\"/>\r\n     <use style=\"fill:#1f77b4;stroke:#1f77b4;\" x=\"241.149956\" xlink:href=\"#m8fc8ff49e2\" y=\"145.932219\"/>\r\n     <use style=\"fill:#1f77b4;stroke:#1f77b4;\" x=\"303.646148\" xlink:href=\"#m8fc8ff49e2\" y=\"145.265022\"/>\r\n     <use style=\"fill:#1f77b4;stroke:#1f77b4;\" x=\"255.116147\" xlink:href=\"#m8fc8ff49e2\" y=\"105.578744\"/>\r\n     <use style=\"fill:#1f77b4;stroke:#1f77b4;\" x=\"270.187576\" xlink:href=\"#m8fc8ff49e2\" y=\"161.661644\"/>\r\n     <use style=\"fill:#1f77b4;stroke:#1f77b4;\" x=\"239.642813\" xlink:href=\"#m8fc8ff49e2\" y=\"139.375111\"/>\r\n     <use style=\"fill:#1f77b4;stroke:#1f77b4;\" x=\"264.159004\" xlink:href=\"#m8fc8ff49e2\" y=\"123.99251\"/>\r\n     <use style=\"fill:#1f77b4;stroke:#1f77b4;\" x=\"222.260432\" xlink:href=\"#m8fc8ff49e2\" y=\"118.487148\"/>\r\n     <use style=\"fill:#1f77b4;stroke:#1f77b4;\" x=\"217.437575\" xlink:href=\"#m8fc8ff49e2\" y=\"149.013855\"/>\r\n     <use style=\"fill:#1f77b4;stroke:#1f77b4;\" x=\"211.308527\" xlink:href=\"#m8fc8ff49e2\" y=\"131.709003\"/>\r\n     <use style=\"fill:#1f77b4;stroke:#1f77b4;\" x=\"174.936145\" xlink:href=\"#m8fc8ff49e2\" y=\"153.904609\"/>\r\n     <use style=\"fill:#1f77b4;stroke:#1f77b4;\" x=\"158.759478\" xlink:href=\"#m8fc8ff49e2\" y=\"114.399195\"/>\r\n     <use style=\"fill:#1f77b4;stroke:#1f77b4;\" x=\"349.061388\" xlink:href=\"#m8fc8ff49e2\" y=\"179.586853\"/>\r\n     <use style=\"fill:#1f77b4;stroke:#1f77b4;\" x=\"232.207575\" xlink:href=\"#m8fc8ff49e2\" y=\"102.142555\"/>\r\n     <use style=\"fill:#1f77b4;stroke:#1f77b4;\" x=\"242.456147\" xlink:href=\"#m8fc8ff49e2\" y=\"142.206772\"/>\r\n     <use style=\"fill:#1f77b4;stroke:#1f77b4;\" x=\"285.761386\" xlink:href=\"#m8fc8ff49e2\" y=\"125.371664\"/>\r\n     <use style=\"fill:#1f77b4;stroke:#1f77b4;\" x=\"279.431386\" xlink:href=\"#m8fc8ff49e2\" y=\"152.487438\"/>\r\n     <use style=\"fill:#1f77b4;stroke:#1f77b4;\" x=\"266.269005\" xlink:href=\"#m8fc8ff49e2\" y=\"140.958244\"/>\r\n     <use style=\"fill:#1f77b4;stroke:#1f77b4;\" x=\"226.480432\" xlink:href=\"#m8fc8ff49e2\" y=\"133.101061\"/>\r\n     <use style=\"fill:#1f77b4;stroke:#1f77b4;\" x=\"172.926621\" xlink:href=\"#m8fc8ff49e2\" y=\"143.997417\"/>\r\n     <use style=\"fill:#1f77b4;stroke:#1f77b4;\" x=\"274.106148\" xlink:href=\"#m8fc8ff49e2\" y=\"179.998652\"/>\r\n     <use style=\"fill:#1f77b4;stroke:#1f77b4;\" x=\"242.958528\" xlink:href=\"#m8fc8ff49e2\" y=\"105.496466\"/>\r\n     <use style=\"fill:#1f77b4;stroke:#1f77b4;\" x=\"260.742814\" xlink:href=\"#m8fc8ff49e2\" y=\"126.228872\"/>\r\n     <use style=\"fill:#1f77b4;stroke:#1f77b4;\" x=\"262.551385\" xlink:href=\"#m8fc8ff49e2\" y=\"138.282346\"/>\r\n     <use style=\"fill:#1f77b4;stroke:#1f77b4;\" x=\"217.437575\" xlink:href=\"#m8fc8ff49e2\" y=\"132.695434\"/>\r\n     <use style=\"fill:#1f77b4;stroke:#1f77b4;\" x=\"242.958528\" xlink:href=\"#m8fc8ff49e2\" y=\"129.5264\"/>\r\n     <use style=\"fill:#1f77b4;stroke:#1f77b4;\" x=\"246.977575\" xlink:href=\"#m8fc8ff49e2\" y=\"125.547682\"/>\r\n     <use style=\"fill:#1f77b4;stroke:#1f77b4;\" x=\"290.986148\" xlink:href=\"#m8fc8ff49e2\" y=\"135.978474\"/>\r\n     <use style=\"fill:#1f77b4;stroke:#1f77b4;\" x=\"247.982337\" xlink:href=\"#m8fc8ff49e2\" y=\"119.072206\"/>\r\n     <use style=\"fill:#1f77b4;stroke:#1f77b4;\" x=\"275.512814\" xlink:href=\"#m8fc8ff49e2\" y=\"154.551336\"/>\r\n     <use style=\"fill:#1f77b4;stroke:#1f77b4;\" x=\"250.594718\" xlink:href=\"#m8fc8ff49e2\" y=\"123.626146\"/>\r\n     <use style=\"fill:#1f77b4;stroke:#1f77b4;\" x=\"263.154243\" xlink:href=\"#m8fc8ff49e2\" y=\"127.662211\"/>\r\n     <use style=\"fill:#1f77b4;stroke:#1f77b4;\" x=\"222.963765\" xlink:href=\"#m8fc8ff49e2\" y=\"150.714999\"/>\r\n     <use style=\"fill:#1f77b4;stroke:#1f77b4;\" x=\"291.789958\" xlink:href=\"#m8fc8ff49e2\" y=\"156.764723\"/>\r\n     <use style=\"fill:#1f77b4;stroke:#1f77b4;\" x=\"207.79186\" xlink:href=\"#m8fc8ff49e2\" y=\"133.475081\"/>\r\n     <use style=\"fill:#1f77b4;stroke:#1f77b4;\" x=\"272.900433\" xlink:href=\"#m8fc8ff49e2\" y=\"166.4359\"/>\r\n     <use style=\"fill:#1f77b4;stroke:#1f77b4;\" x=\"277.019957\" xlink:href=\"#m8fc8ff49e2\" y=\"139.444769\"/>\r\n     <use style=\"fill:#1f77b4;stroke:#1f77b4;\" x=\"266.369481\" xlink:href=\"#m8fc8ff49e2\" y=\"127.564879\"/>\r\n     <use style=\"fill:#1f77b4;stroke:#1f77b4;\" x=\"263.254719\" xlink:href=\"#m8fc8ff49e2\" y=\"141.754604\"/>\r\n     <use style=\"fill:#1f77b4;stroke:#1f77b4;\" x=\"201.662812\" xlink:href=\"#m8fc8ff49e2\" y=\"135.17697\"/>\r\n     <use style=\"fill:#1f77b4;stroke:#1f77b4;\" x=\"281.742338\" xlink:href=\"#m8fc8ff49e2\" y=\"167.852644\"/>\r\n     <use style=\"fill:#1f77b4;stroke:#1f77b4;\" x=\"239.341385\" xlink:href=\"#m8fc8ff49e2\" y=\"119.99426\"/>\r\n     <use style=\"fill:#1f77b4;stroke:#1f77b4;\" x=\"233.111861\" xlink:href=\"#m8fc8ff49e2\" y=\"116.06243\"/>\r\n     <use style=\"fill:#1f77b4;stroke:#1f77b4;\" x=\"255.719004\" xlink:href=\"#m8fc8ff49e2\" y=\"125.162017\"/>\r\n     <use style=\"fill:#1f77b4;stroke:#1f77b4;\" x=\"261.245195\" xlink:href=\"#m8fc8ff49e2\" y=\"131.753418\"/>\r\n     <use style=\"fill:#1f77b4;stroke:#1f77b4;\" x=\"214.523765\" xlink:href=\"#m8fc8ff49e2\" y=\"137.553457\"/>\r\n     <use style=\"fill:#1f77b4;stroke:#1f77b4;\" x=\"277.622814\" xlink:href=\"#m8fc8ff49e2\" y=\"166.618327\"/>\r\n     <use style=\"fill:#1f77b4;stroke:#1f77b4;\" x=\"215.227098\" xlink:href=\"#m8fc8ff49e2\" y=\"132.173232\"/>\r\n     <use style=\"fill:#1f77b4;stroke:#1f77b4;\" x=\"260.340909\" xlink:href=\"#m8fc8ff49e2\" y=\"167.379641\"/>\r\n     <use style=\"fill:#1f77b4;stroke:#1f77b4;\" x=\"260.642338\" xlink:href=\"#m8fc8ff49e2\" y=\"151.038239\"/>\r\n     <use style=\"fill:#1f77b4;stroke:#1f77b4;\" x=\"234.418051\" xlink:href=\"#m8fc8ff49e2\" y=\"113.364417\"/>\r\n     <use style=\"fill:#1f77b4;stroke:#1f77b4;\" x=\"203.772812\" xlink:href=\"#m8fc8ff49e2\" y=\"160.317746\"/>\r\n     <use style=\"fill:#1f77b4;stroke:#1f77b4;\" x=\"296.612815\" xlink:href=\"#m8fc8ff49e2\" y=\"95.520392\"/>\r\n     <use style=\"fill:#1f77b4;stroke:#1f77b4;\" x=\"223.767575\" xlink:href=\"#m8fc8ff49e2\" y=\"133.459213\"/>\r\n     <use style=\"fill:#1f77b4;stroke:#1f77b4;\" x=\"240.949004\" xlink:href=\"#m8fc8ff49e2\" y=\"158.428644\"/>\r\n     <use style=\"fill:#1f77b4;stroke:#1f77b4;\" x=\"248.685671\" xlink:href=\"#m8fc8ff49e2\" y=\"122.616575\"/>\r\n     <use style=\"fill:#1f77b4;stroke:#1f77b4;\" x=\"219.648051\" xlink:href=\"#m8fc8ff49e2\" y=\"153.497257\"/>\r\n     <use style=\"fill:#1f77b4;stroke:#1f77b4;\" x=\"250.494242\" xlink:href=\"#m8fc8ff49e2\" y=\"143.134292\"/>\r\n     <use style=\"fill:#1f77b4;stroke:#1f77b4;\" x=\"174.333288\" xlink:href=\"#m8fc8ff49e2\" y=\"110.916607\"/>\r\n     <use style=\"fill:#1f77b4;stroke:#1f77b4;\" x=\"204.074241\" xlink:href=\"#m8fc8ff49e2\" y=\"196.489016\"/>\r\n     <use style=\"fill:#1f77b4;stroke:#1f77b4;\" x=\"312.889958\" xlink:href=\"#m8fc8ff49e2\" y=\"129.66213\"/>\r\n     <use style=\"fill:#1f77b4;stroke:#1f77b4;\" x=\"240.647575\" xlink:href=\"#m8fc8ff49e2\" y=\"87.028843\"/>\r\n     <use style=\"fill:#1f77b4;stroke:#1f77b4;\" x=\"213.318051\" xlink:href=\"#m8fc8ff49e2\" y=\"156.150247\"/>\r\n    </g>\r\n   </g>\r\n   <g id=\"matplotlib.axis_1\">\r\n    <g id=\"xtick_1\">\r\n     <g id=\"line2d_1\">\r\n      <defs>\r\n       <path d=\"M 0 0 \r\nL 0 3.5 \r\n\" id=\"m8c941523d4\" style=\"stroke:#000000;stroke-width:0.8;\"/>\r\n      </defs>\r\n      <g>\r\n       <use style=\"stroke:#000000;stroke-width:0.8;\" x=\"84.306619\" xlink:href=\"#m8c941523d4\" y=\"224.64\"/>\r\n      </g>\r\n     </g>\r\n     <g id=\"text_1\">\r\n      <!-- −0.15 -->\r\n      <defs>\r\n       <path d=\"M 10.59375 35.5 \r\nL 73.1875 35.5 \r\nL 73.1875 27.203125 \r\nL 10.59375 27.203125 \r\nz\r\n\" id=\"DejaVuSans-8722\"/>\r\n       <path d=\"M 31.78125 66.40625 \r\nQ 24.171875 66.40625 20.328125 58.90625 \r\nQ 16.5 51.421875 16.5 36.375 \r\nQ 16.5 21.390625 20.328125 13.890625 \r\nQ 24.171875 6.390625 31.78125 6.390625 \r\nQ 39.453125 6.390625 43.28125 13.890625 \r\nQ 47.125 21.390625 47.125 36.375 \r\nQ 47.125 51.421875 43.28125 58.90625 \r\nQ 39.453125 66.40625 31.78125 66.40625 \r\nz\r\nM 31.78125 74.21875 \r\nQ 44.046875 74.21875 50.515625 64.515625 \r\nQ 56.984375 54.828125 56.984375 36.375 \r\nQ 56.984375 17.96875 50.515625 8.265625 \r\nQ 44.046875 -1.421875 31.78125 -1.421875 \r\nQ 19.53125 -1.421875 13.0625 8.265625 \r\nQ 6.59375 17.96875 6.59375 36.375 \r\nQ 6.59375 54.828125 13.0625 64.515625 \r\nQ 19.53125 74.21875 31.78125 74.21875 \r\nz\r\n\" id=\"DejaVuSans-48\"/>\r\n       <path d=\"M 10.6875 12.40625 \r\nL 21 12.40625 \r\nL 21 0 \r\nL 10.6875 0 \r\nz\r\n\" id=\"DejaVuSans-46\"/>\r\n       <path d=\"M 12.40625 8.296875 \r\nL 28.515625 8.296875 \r\nL 28.515625 63.921875 \r\nL 10.984375 60.40625 \r\nL 10.984375 69.390625 \r\nL 28.421875 72.90625 \r\nL 38.28125 72.90625 \r\nL 38.28125 8.296875 \r\nL 54.390625 8.296875 \r\nL 54.390625 0 \r\nL 12.40625 0 \r\nz\r\n\" id=\"DejaVuSans-49\"/>\r\n       <path d=\"M 10.796875 72.90625 \r\nL 49.515625 72.90625 \r\nL 49.515625 64.59375 \r\nL 19.828125 64.59375 \r\nL 19.828125 46.734375 \r\nQ 21.96875 47.46875 24.109375 47.828125 \r\nQ 26.265625 48.1875 28.421875 48.1875 \r\nQ 40.625 48.1875 47.75 41.5 \r\nQ 54.890625 34.8125 54.890625 23.390625 \r\nQ 54.890625 11.625 47.5625 5.09375 \r\nQ 40.234375 -1.421875 26.90625 -1.421875 \r\nQ 22.3125 -1.421875 17.546875 -0.640625 \r\nQ 12.796875 0.140625 7.71875 1.703125 \r\nL 7.71875 11.625 \r\nQ 12.109375 9.234375 16.796875 8.0625 \r\nQ 21.484375 6.890625 26.703125 6.890625 \r\nQ 35.15625 6.890625 40.078125 11.328125 \r\nQ 45.015625 15.765625 45.015625 23.390625 \r\nQ 45.015625 31 40.078125 35.4375 \r\nQ 35.15625 39.890625 26.703125 39.890625 \r\nQ 22.75 39.890625 18.8125 39.015625 \r\nQ 14.890625 38.140625 10.796875 36.28125 \r\nz\r\n\" id=\"DejaVuSans-53\"/>\r\n      </defs>\r\n      <g transform=\"translate(68.983963 239.238437)scale(0.1 -0.1)\">\r\n       <use xlink:href=\"#DejaVuSans-8722\"/>\r\n       <use x=\"83.789062\" xlink:href=\"#DejaVuSans-48\"/>\r\n       <use x=\"147.412109\" xlink:href=\"#DejaVuSans-46\"/>\r\n       <use x=\"179.199219\" xlink:href=\"#DejaVuSans-49\"/>\r\n       <use x=\"242.822266\" xlink:href=\"#DejaVuSans-53\"/>\r\n      </g>\r\n     </g>\r\n    </g>\r\n    <g id=\"xtick_2\">\r\n     <g id=\"line2d_2\">\r\n      <g>\r\n       <use style=\"stroke:#000000;stroke-width:0.8;\" x=\"134.544715\" xlink:href=\"#m8c941523d4\" y=\"224.64\"/>\r\n      </g>\r\n     </g>\r\n     <g id=\"text_2\">\r\n      <!-- −0.10 -->\r\n      <g transform=\"translate(119.222059 239.238437)scale(0.1 -0.1)\">\r\n       <use xlink:href=\"#DejaVuSans-8722\"/>\r\n       <use x=\"83.789062\" xlink:href=\"#DejaVuSans-48\"/>\r\n       <use x=\"147.412109\" xlink:href=\"#DejaVuSans-46\"/>\r\n       <use x=\"179.199219\" xlink:href=\"#DejaVuSans-49\"/>\r\n       <use x=\"242.822266\" xlink:href=\"#DejaVuSans-48\"/>\r\n      </g>\r\n     </g>\r\n    </g>\r\n    <g id=\"xtick_3\">\r\n     <g id=\"line2d_3\">\r\n      <g>\r\n       <use style=\"stroke:#000000;stroke-width:0.8;\" x=\"184.782812\" xlink:href=\"#m8c941523d4\" y=\"224.64\"/>\r\n      </g>\r\n     </g>\r\n     <g id=\"text_3\">\r\n      <!-- −0.05 -->\r\n      <g transform=\"translate(169.460156 239.238437)scale(0.1 -0.1)\">\r\n       <use xlink:href=\"#DejaVuSans-8722\"/>\r\n       <use x=\"83.789062\" xlink:href=\"#DejaVuSans-48\"/>\r\n       <use x=\"147.412109\" xlink:href=\"#DejaVuSans-46\"/>\r\n       <use x=\"179.199219\" xlink:href=\"#DejaVuSans-48\"/>\r\n       <use x=\"242.822266\" xlink:href=\"#DejaVuSans-53\"/>\r\n      </g>\r\n     </g>\r\n    </g>\r\n    <g id=\"xtick_4\">\r\n     <g id=\"line2d_4\">\r\n      <g>\r\n       <use style=\"stroke:#000000;stroke-width:0.8;\" x=\"235.020908\" xlink:href=\"#m8c941523d4\" y=\"224.64\"/>\r\n      </g>\r\n     </g>\r\n     <g id=\"text_4\">\r\n      <!-- 0.00 -->\r\n      <g transform=\"translate(223.888096 239.238437)scale(0.1 -0.1)\">\r\n       <use xlink:href=\"#DejaVuSans-48\"/>\r\n       <use x=\"63.623047\" xlink:href=\"#DejaVuSans-46\"/>\r\n       <use x=\"95.410156\" xlink:href=\"#DejaVuSans-48\"/>\r\n       <use x=\"159.033203\" xlink:href=\"#DejaVuSans-48\"/>\r\n      </g>\r\n     </g>\r\n    </g>\r\n    <g id=\"xtick_5\">\r\n     <g id=\"line2d_5\">\r\n      <g>\r\n       <use style=\"stroke:#000000;stroke-width:0.8;\" x=\"285.259005\" xlink:href=\"#m8c941523d4\" y=\"224.64\"/>\r\n      </g>\r\n     </g>\r\n     <g id=\"text_5\">\r\n      <!-- 0.05 -->\r\n      <g transform=\"translate(274.126192 239.238437)scale(0.1 -0.1)\">\r\n       <use xlink:href=\"#DejaVuSans-48\"/>\r\n       <use x=\"63.623047\" xlink:href=\"#DejaVuSans-46\"/>\r\n       <use x=\"95.410156\" xlink:href=\"#DejaVuSans-48\"/>\r\n       <use x=\"159.033203\" xlink:href=\"#DejaVuSans-53\"/>\r\n      </g>\r\n     </g>\r\n    </g>\r\n    <g id=\"xtick_6\">\r\n     <g id=\"line2d_6\">\r\n      <g>\r\n       <use style=\"stroke:#000000;stroke-width:0.8;\" x=\"335.497102\" xlink:href=\"#m8c941523d4\" y=\"224.64\"/>\r\n      </g>\r\n     </g>\r\n     <g id=\"text_6\">\r\n      <!-- 0.10 -->\r\n      <g transform=\"translate(324.364289 239.238437)scale(0.1 -0.1)\">\r\n       <use xlink:href=\"#DejaVuSans-48\"/>\r\n       <use x=\"63.623047\" xlink:href=\"#DejaVuSans-46\"/>\r\n       <use x=\"95.410156\" xlink:href=\"#DejaVuSans-49\"/>\r\n       <use x=\"159.033203\" xlink:href=\"#DejaVuSans-48\"/>\r\n      </g>\r\n     </g>\r\n    </g>\r\n   </g>\r\n   <g id=\"matplotlib.axis_2\">\r\n    <g id=\"ytick_1\">\r\n     <g id=\"line2d_7\">\r\n      <defs>\r\n       <path d=\"M 0 0 \r\nL -3.5 0 \r\n\" id=\"mca32a3d985\" style=\"stroke:#000000;stroke-width:0.8;\"/>\r\n      </defs>\r\n      <g>\r\n       <use style=\"stroke:#000000;stroke-width:0.8;\" x=\"38.482813\" xlink:href=\"#mca32a3d985\" y=\"222.256529\"/>\r\n      </g>\r\n     </g>\r\n     <g id=\"text_7\">\r\n      <!-- −0.2 -->\r\n      <defs>\r\n       <path d=\"M 19.1875 8.296875 \r\nL 53.609375 8.296875 \r\nL 53.609375 0 \r\nL 7.328125 0 \r\nL 7.328125 8.296875 \r\nQ 12.9375 14.109375 22.625 23.890625 \r\nQ 32.328125 33.6875 34.8125 36.53125 \r\nQ 39.546875 41.84375 41.421875 45.53125 \r\nQ 43.3125 49.21875 43.3125 52.78125 \r\nQ 43.3125 58.59375 39.234375 62.25 \r\nQ 35.15625 65.921875 28.609375 65.921875 \r\nQ 23.96875 65.921875 18.8125 64.3125 \r\nQ 13.671875 62.703125 7.8125 59.421875 \r\nL 7.8125 69.390625 \r\nQ 13.765625 71.78125 18.9375 73 \r\nQ 24.125 74.21875 28.421875 74.21875 \r\nQ 39.75 74.21875 46.484375 68.546875 \r\nQ 53.21875 62.890625 53.21875 53.421875 \r\nQ 53.21875 48.921875 51.53125 44.890625 \r\nQ 49.859375 40.875 45.40625 35.40625 \r\nQ 44.1875 33.984375 37.640625 27.21875 \r\nQ 31.109375 20.453125 19.1875 8.296875 \r\nz\r\n\" id=\"DejaVuSans-50\"/>\r\n      </defs>\r\n      <g transform=\"translate(7.2 226.055748)scale(0.1 -0.1)\">\r\n       <use xlink:href=\"#DejaVuSans-8722\"/>\r\n       <use x=\"83.789062\" xlink:href=\"#DejaVuSans-48\"/>\r\n       <use x=\"147.412109\" xlink:href=\"#DejaVuSans-46\"/>\r\n       <use x=\"179.199219\" xlink:href=\"#DejaVuSans-50\"/>\r\n      </g>\r\n     </g>\r\n    </g>\r\n    <g id=\"ytick_2\">\r\n     <g id=\"line2d_8\">\r\n      <g>\r\n       <use style=\"stroke:#000000;stroke-width:0.8;\" x=\"38.482813\" xlink:href=\"#mca32a3d985\" y=\"182.079483\"/>\r\n      </g>\r\n     </g>\r\n     <g id=\"text_8\">\r\n      <!-- −0.1 -->\r\n      <g transform=\"translate(7.2 185.878701)scale(0.1 -0.1)\">\r\n       <use xlink:href=\"#DejaVuSans-8722\"/>\r\n       <use x=\"83.789062\" xlink:href=\"#DejaVuSans-48\"/>\r\n       <use x=\"147.412109\" xlink:href=\"#DejaVuSans-46\"/>\r\n       <use x=\"179.199219\" xlink:href=\"#DejaVuSans-49\"/>\r\n      </g>\r\n     </g>\r\n    </g>\r\n    <g id=\"ytick_3\">\r\n     <g id=\"line2d_9\">\r\n      <g>\r\n       <use style=\"stroke:#000000;stroke-width:0.8;\" x=\"38.482813\" xlink:href=\"#mca32a3d985\" y=\"141.902436\"/>\r\n      </g>\r\n     </g>\r\n     <g id=\"text_9\">\r\n      <!-- 0.0 -->\r\n      <g transform=\"translate(15.579688 145.701655)scale(0.1 -0.1)\">\r\n       <use xlink:href=\"#DejaVuSans-48\"/>\r\n       <use x=\"63.623047\" xlink:href=\"#DejaVuSans-46\"/>\r\n       <use x=\"95.410156\" xlink:href=\"#DejaVuSans-48\"/>\r\n      </g>\r\n     </g>\r\n    </g>\r\n    <g id=\"ytick_4\">\r\n     <g id=\"line2d_10\">\r\n      <g>\r\n       <use style=\"stroke:#000000;stroke-width:0.8;\" x=\"38.482813\" xlink:href=\"#mca32a3d985\" y=\"101.72539\"/>\r\n      </g>\r\n     </g>\r\n     <g id=\"text_10\">\r\n      <!-- 0.1 -->\r\n      <g transform=\"translate(15.579688 105.524608)scale(0.1 -0.1)\">\r\n       <use xlink:href=\"#DejaVuSans-48\"/>\r\n       <use x=\"63.623047\" xlink:href=\"#DejaVuSans-46\"/>\r\n       <use x=\"95.410156\" xlink:href=\"#DejaVuSans-49\"/>\r\n      </g>\r\n     </g>\r\n    </g>\r\n    <g id=\"ytick_5\">\r\n     <g id=\"line2d_11\">\r\n      <g>\r\n       <use style=\"stroke:#000000;stroke-width:0.8;\" x=\"38.482813\" xlink:href=\"#mca32a3d985\" y=\"61.548343\"/>\r\n      </g>\r\n     </g>\r\n     <g id=\"text_11\">\r\n      <!-- 0.2 -->\r\n      <g transform=\"translate(15.579688 65.347562)scale(0.1 -0.1)\">\r\n       <use xlink:href=\"#DejaVuSans-48\"/>\r\n       <use x=\"63.623047\" xlink:href=\"#DejaVuSans-46\"/>\r\n       <use x=\"95.410156\" xlink:href=\"#DejaVuSans-50\"/>\r\n      </g>\r\n     </g>\r\n    </g>\r\n    <g id=\"ytick_6\">\r\n     <g id=\"line2d_12\">\r\n      <g>\r\n       <use style=\"stroke:#000000;stroke-width:0.8;\" x=\"38.482813\" xlink:href=\"#mca32a3d985\" y=\"21.371297\"/>\r\n      </g>\r\n     </g>\r\n     <g id=\"text_12\">\r\n      <!-- 0.3 -->\r\n      <defs>\r\n       <path d=\"M 40.578125 39.3125 \r\nQ 47.65625 37.796875 51.625 33 \r\nQ 55.609375 28.21875 55.609375 21.1875 \r\nQ 55.609375 10.40625 48.1875 4.484375 \r\nQ 40.765625 -1.421875 27.09375 -1.421875 \r\nQ 22.515625 -1.421875 17.65625 -0.515625 \r\nQ 12.796875 0.390625 7.625 2.203125 \r\nL 7.625 11.71875 \r\nQ 11.71875 9.328125 16.59375 8.109375 \r\nQ 21.484375 6.890625 26.8125 6.890625 \r\nQ 36.078125 6.890625 40.9375 10.546875 \r\nQ 45.796875 14.203125 45.796875 21.1875 \r\nQ 45.796875 27.640625 41.28125 31.265625 \r\nQ 36.765625 34.90625 28.71875 34.90625 \r\nL 20.21875 34.90625 \r\nL 20.21875 43.015625 \r\nL 29.109375 43.015625 \r\nQ 36.375 43.015625 40.234375 45.921875 \r\nQ 44.09375 48.828125 44.09375 54.296875 \r\nQ 44.09375 59.90625 40.109375 62.90625 \r\nQ 36.140625 65.921875 28.71875 65.921875 \r\nQ 24.65625 65.921875 20.015625 65.03125 \r\nQ 15.375 64.15625 9.8125 62.3125 \r\nL 9.8125 71.09375 \r\nQ 15.4375 72.65625 20.34375 73.4375 \r\nQ 25.25 74.21875 29.59375 74.21875 \r\nQ 40.828125 74.21875 47.359375 69.109375 \r\nQ 53.90625 64.015625 53.90625 55.328125 \r\nQ 53.90625 49.265625 50.4375 45.09375 \r\nQ 46.96875 40.921875 40.578125 39.3125 \r\nz\r\n\" id=\"DejaVuSans-51\"/>\r\n      </defs>\r\n      <g transform=\"translate(15.579688 25.170515)scale(0.1 -0.1)\">\r\n       <use xlink:href=\"#DejaVuSans-48\"/>\r\n       <use x=\"63.623047\" xlink:href=\"#DejaVuSans-46\"/>\r\n       <use x=\"95.410156\" xlink:href=\"#DejaVuSans-51\"/>\r\n      </g>\r\n     </g>\r\n    </g>\r\n   </g>\r\n   <g id=\"line2d_13\">\r\n    <path clip-path=\"url(#p899c55e734)\" d=\"M 263.857576 138.066251 \r\nL 61.900428 142.300241 \r\nL 349.061388 136.279971 \r\nL 213.217575 139.127909 \r\n\" style=\"fill:none;stroke:#1f77b4;stroke-linecap:square;stroke-width:1.5;\"/>\r\n   </g>\r\n   <g id=\"patch_3\">\r\n    <path d=\"M 38.482813 224.64 \r\nL 38.482813 7.2 \r\n\" style=\"fill:none;stroke:#000000;stroke-linecap:square;stroke-linejoin:miter;stroke-width:0.8;\"/>\r\n   </g>\r\n   <g id=\"patch_4\">\r\n    <path d=\"M 373.282813 224.64 \r\nL 373.282813 7.2 \r\n\" style=\"fill:none;stroke:#000000;stroke-linecap:square;stroke-linejoin:miter;stroke-width:0.8;\"/>\r\n   </g>\r\n   <g id=\"patch_5\">\r\n    <path d=\"M 38.482812 224.64 \r\nL 373.282812 224.64 \r\n\" style=\"fill:none;stroke:#000000;stroke-linecap:square;stroke-linejoin:miter;stroke-width:0.8;\"/>\r\n   </g>\r\n   <g id=\"patch_6\">\r\n    <path d=\"M 38.482812 7.2 \r\nL 373.282812 7.2 \r\n\" style=\"fill:none;stroke:#000000;stroke-linecap:square;stroke-linejoin:miter;stroke-width:0.8;\"/>\r\n   </g>\r\n  </g>\r\n </g>\r\n <defs>\r\n  <clipPath id=\"p899c55e734\">\r\n   <rect height=\"217.44\" width=\"334.8\" x=\"38.482813\" y=\"7.2\"/>\r\n  </clipPath>\r\n </defs>\r\n</svg>\r\n",
      "image/png": "[encoded data removed]"
     },
     "metadata": {
      "needs_background": "light"
     }
    }
   ],
   "source": [
    "plt.scatter(x= df.MKT, y = df.UN)\n",
    "plt.plot(X, yhat)\n",
    "plt.show()"
   ]
  },
  {
   "source": [
    "(c) Compute the variance-covariance matrix of the OLS coefficients under the assumption of homoskedasticity."
   ],
   "cell_type": "markdown",
   "metadata": {}
  },
  {
   "cell_type": "code",
   "execution_count": 46,
   "metadata": {},
   "outputs": [],
   "source": [
    "n = len(y) \n",
    "k = 2 # the size of the matrix is k * k\n",
    "sigmaHat_Squated = sum((yhat - y)**2)/(n-k)"
   ]
  },
  {
   "cell_type": "code",
   "execution_count": 66,
   "metadata": {},
   "outputs": [
    {
     "output_type": "execute_result",
     "data": {
      "text/plain": [
       "matrix([[ 2.33156187, -0.01419603],\n",
       "        [-0.01419603,  0.00461568]])"
      ]
     },
     "metadata": {},
     "execution_count": 66
    }
   ],
   "source": [
    "x = np.matrix([X,np.ones(X.shape[0])])\n",
    "V = np.linalg.inv((x * x.T)) * sum((yhat - y)**2)\n",
    "V"
   ]
  },
  {
   "source": [
    "(d) Use t-test to test the null hypothesis that each regression coefficient is individually equal to 0."
   ],
   "cell_type": "markdown",
   "metadata": {}
  },
  {
   "cell_type": "code",
   "execution_count": 73,
   "metadata": {},
   "outputs": [],
   "source": [
    "# testing beta\n",
    "S_xx = sum((X-X.mean())**2)\n",
    "S_yy = sum((y-y.mean())**2)\n",
    "S_xy = sum((X-X.mean())*(y-y.mean()))\n",
    "Q_e  = sum((y-yhat)**2)\n",
    "n    = len(y)\n",
    "sgimaHat_Squated = Q_e / (n-2)\n",
    "sigmaHat = sgimaHat_Squated**0.5\n",
    "tvalue_beta = np.abs(beta)/sigmaHat * np.sqrt(S_xx)"
   ]
  },
  {
   "source": [
    "In this question, we set confidencial level to 95%."
   ],
   "cell_type": "markdown",
   "metadata": {}
  },
  {
   "cell_type": "code",
   "execution_count": 74,
   "metadata": {},
   "outputs": [],
   "source": [
    "from scipy.stats import t\n",
    "t_alpha = 0.95\n",
    "n = len(y)\n",
    "k = 2\n",
    "reject_t_beta = t.pdf((1-t_alpha)/2, n-k)"
   ]
  },
  {
   "cell_type": "code",
   "execution_count": 75,
   "metadata": {},
   "outputs": [
    {
     "output_type": "execute_result",
     "data": {
      "text/plain": [
       "True"
      ]
     },
     "metadata": {},
     "execution_count": 75
    }
   ],
   "source": [
    "tvalue_beta > reject_t_beta"
   ]
  },
  {
   "source": [
    "As we can see, beta isn't euqal to 0 under confidencial level 95%."
   ],
   "cell_type": "markdown",
   "metadata": {}
  },
  {
   "cell_type": "code",
   "execution_count": 77,
   "metadata": {},
   "outputs": [
    {
     "output_type": "execute_result",
     "data": {
      "text/plain": [
       "0.16885112792598125"
      ]
     },
     "metadata": {},
     "execution_count": 77
    }
   ],
   "source": [
    "# testing alpha\n",
    "n = len(y)\n",
    "t_value_alpha = np.abs(alpha) / sigmaHat / (1/n + x.mean()**2/S_xx)**0.5\n",
    "t_value_alpha"
   ]
  },
  {
   "cell_type": "code",
   "execution_count": 79,
   "metadata": {},
   "outputs": [
    {
     "output_type": "execute_result",
     "data": {
      "text/plain": [
       "0.3984367865824333"
      ]
     },
     "metadata": {},
     "execution_count": 79
    }
   ],
   "source": [
    "reject_t_alpha = t.pdf((1-t_alpha)/2, n-k)\n",
    "reject_t_alpha"
   ]
  },
  {
   "source": [
    "As we can see, alpha is euqal to 0 under confidencial level 95%."
   ],
   "cell_type": "markdown",
   "metadata": {}
  },
  {
   "source": [
    "(e) Assess whether there is significant evidence for heteroskedasticity."
   ],
   "cell_type": "markdown",
   "metadata": {}
  },
  {
   "cell_type": "code",
   "execution_count": 83,
   "metadata": {},
   "outputs": [
    {
     "output_type": "execute_result",
     "data": {
      "text/plain": [
       "matrix([[ 1.25353337e-02, -5.30367346e-05],\n",
       "        [-5.30367346e-05,  1.73373722e-05]])"
      ]
     },
     "metadata": {},
     "execution_count": 83
    }
   ],
   "source": [
    "x = np.matrix([X,np.ones(X.shape[0])])\n",
    "xx_inv = np.linalg.inv((x * x.T))\n",
    "e_Squared = (y-yhat)**2\n",
    "middle = 0\n",
    "for i in range(n):\n",
    "    middle +=  x[:,i] * x[:,i].T * e_Squared[i]\n",
    "V_W = xx_inv * middle * xx_inv\n",
    "V_W"
   ]
  },
  {
   "cell_type": "code",
   "execution_count": 84,
   "metadata": {},
   "outputs": [
    {
     "output_type": "execute_result",
     "data": {
      "text/plain": [
       "matrix([[ 2.33156187, -0.01419603],\n",
       "        [-0.01419603,  0.00461568]])"
      ]
     },
     "metadata": {},
     "execution_count": 84
    }
   ],
   "source": [
    "V"
   ]
  },
  {
   "source": [
    "As we can see from above, the V and V_W is different, whicn means they have different standard errors, and the heteroskedasticity holds."
   ],
   "cell_type": "markdown",
   "metadata": {}
  },
  {
   "source": [
    "(f) Compute standard errors and the 90%, 95% and 99% confidence intervals under the assumption of homoskedasticity. "
   ],
   "cell_type": "markdown",
   "metadata": {}
  },
  {
   "cell_type": "code",
   "execution_count": 85,
   "metadata": {},
   "outputs": [
    {
     "output_type": "execute_result",
     "data": {
      "text/plain": [
       "matrix([[1.52694527,        nan],\n",
       "        [       nan, 0.0679388 ]])"
      ]
     },
     "metadata": {},
     "execution_count": 85
    }
   ],
   "source": [
    "np.sqrt(V)"
   ]
  },
  {
   "source": [
    "the standard error of alpha is 0.004\n",
    "\n",
    "the standard error of beta  is 0.094"
   ],
   "cell_type": "markdown",
   "metadata": {}
  },
  {
   "source": [
    "(g) Compute he vc-matrix of OLS under heteroskedasticity"
   ],
   "cell_type": "markdown",
   "metadata": {}
  },
  {
   "cell_type": "code",
   "execution_count": 86,
   "metadata": {},
   "outputs": [
    {
     "output_type": "execute_result",
     "data": {
      "text/plain": [
       "matrix([[ 1.25353337e-02, -5.30367346e-05],\n",
       "        [-5.30367346e-05,  1.73373722e-05]])"
      ]
     },
     "metadata": {},
     "execution_count": 86
    }
   ],
   "source": [
    "x = np.matrix([X,np.ones(X.shape[0])])\n",
    "xx_inv = np.linalg.inv((x * x.T))\n",
    "e_Squared = (y-yhat)**2\n",
    "middle = 0\n",
    "for i in range(n):\n",
    "    middle +=  x[:,i] * x[:,i].T * e_Squared[i]\n",
    "V_W = xx_inv * middle * xx_inv\n",
    "V_W"
   ]
  },
  {
   "source": [
    "(h) Compute standard errors and the 90%, 95% and 99% confidence intervals under the assumption of heteroskedasticity."
   ],
   "cell_type": "markdown",
   "metadata": {}
  },
  {
   "cell_type": "code",
   "execution_count": 88,
   "metadata": {},
   "outputs": [
    {
     "output_type": "execute_result",
     "data": {
      "text/plain": [
       "matrix([[0.1119613 ,        nan],\n",
       "        [       nan, 0.00416382]])"
      ]
     },
     "metadata": {},
     "execution_count": 88
    }
   ],
   "source": [
    "np.sqrt(V_W)"
   ]
  },
  {
   "source": [
    "the standard error of alpha is 0.1119613 \n",
    "\n",
    "the standard error of beta  is 0.00416382"
   ],
   "cell_type": "markdown",
   "metadata": {}
  },
  {
   "source": [
    "(i) Use t-test to test the null hypothesis that each regression coefficient is individually equal to 0 under heteroskedasticity"
   ],
   "cell_type": "markdown",
   "metadata": {}
  },
  {
   "source": [
    "(j) Compute the AIC, BIC and Hannah-Quinn ICs"
   ],
   "cell_type": "markdown",
   "metadata": {}
  },
  {
   "cell_type": "code",
   "execution_count": null,
   "metadata": {},
   "outputs": [],
   "source": []
  },
  {
   "cell_type": "code",
   "execution_count": null,
   "metadata": {},
   "outputs": [],
   "source": []
  },
  {
   "source": [
    "# Problem 2"
   ],
   "cell_type": "markdown",
   "metadata": {}
  },
  {
   "cell_type": "code",
   "execution_count": 92,
   "metadata": {},
   "outputs": [
    {
     "output_type": "execute_result",
     "data": {
      "text/plain": [
       "               PG          UN          HH         MKT          RF\n",
       "count  264.000000  264.000000  264.000000  264.000000  264.000000\n",
       "mean     0.009986    0.010493    0.008408    0.008219    0.002131\n",
       "std      0.056973    0.067521    0.042101    0.044154    0.001846\n",
       "min     -0.325779   -0.167535   -0.142600   -0.171500    0.000000\n",
       "25%     -0.020998   -0.024973   -0.013200   -0.018000    0.000100\n",
       "50%      0.012294    0.014835    0.011450    0.014400    0.001700\n",
       "75%      0.043510    0.047397    0.033825    0.037725    0.004000\n",
       "max      0.267136    0.296875    0.185400    0.113500    0.005600"
      ],
      "text/html": "<div>\n<style scoped>\n    .dataframe tbody tr th:only-of-type {\n        vertical-align: middle;\n    }\n\n    .dataframe tbody tr th {\n        vertical-align: top;\n    }\n\n    .dataframe thead th {\n        text-align: right;\n    }\n</style>\n<table border=\"1\" class=\"dataframe\">\n  <thead>\n    <tr style=\"text-align: right;\">\n      <th></th>\n      <th>PG</th>\n      <th>UN</th>\n      <th>HH</th>\n      <th>MKT</th>\n      <th>RF</th>\n    </tr>\n  </thead>\n  <tbody>\n    <tr>\n      <th>count</th>\n      <td>264.000000</td>\n      <td>264.000000</td>\n      <td>264.000000</td>\n      <td>264.000000</td>\n      <td>264.000000</td>\n    </tr>\n    <tr>\n      <th>mean</th>\n      <td>0.009986</td>\n      <td>0.010493</td>\n      <td>0.008408</td>\n      <td>0.008219</td>\n      <td>0.002131</td>\n    </tr>\n    <tr>\n      <th>std</th>\n      <td>0.056973</td>\n      <td>0.067521</td>\n      <td>0.042101</td>\n      <td>0.044154</td>\n      <td>0.001846</td>\n    </tr>\n    <tr>\n      <th>min</th>\n      <td>-0.325779</td>\n      <td>-0.167535</td>\n      <td>-0.142600</td>\n      <td>-0.171500</td>\n      <td>0.000000</td>\n    </tr>\n    <tr>\n      <th>25%</th>\n      <td>-0.020998</td>\n      <td>-0.024973</td>\n      <td>-0.013200</td>\n      <td>-0.018000</td>\n      <td>0.000100</td>\n    </tr>\n    <tr>\n      <th>50%</th>\n      <td>0.012294</td>\n      <td>0.014835</td>\n      <td>0.011450</td>\n      <td>0.014400</td>\n      <td>0.001700</td>\n    </tr>\n    <tr>\n      <th>75%</th>\n      <td>0.043510</td>\n      <td>0.047397</td>\n      <td>0.033825</td>\n      <td>0.037725</td>\n      <td>0.004000</td>\n    </tr>\n    <tr>\n      <th>max</th>\n      <td>0.267136</td>\n      <td>0.296875</td>\n      <td>0.185400</td>\n      <td>0.113500</td>\n      <td>0.005600</td>\n    </tr>\n  </tbody>\n</table>\n</div>"
     },
     "metadata": {},
     "execution_count": 92
    }
   ],
   "source": [
    "import pandas as pd  \n",
    "import numpy as np  \n",
    "import matplotlib.pyplot as plt  \n",
    "df = pd.read_csv(\"Data_PG_UN.csv\")\n",
    "df.describe()"
   ]
  },
  {
   "cell_type": "code",
   "execution_count": 104,
   "metadata": {},
   "outputs": [
    {
     "output_type": "stream",
     "name": "stdout",
     "text": [
      "                            OLS Regression Results                            \n==============================================================================\nDep. Variable:                      y   R-squared:                       0.003\nModel:                            OLS   Adj. R-squared:                 -0.005\nMethod:                 Least Squares   F-statistic:                    0.3293\nDate:                Thu, 18 Feb 2021   Prob (F-statistic):              0.720\nTime:                        05:53:19   Log-Likelihood:                 338.01\nNo. Observations:                 264   AIC:                            -670.0\nDf Residuals:                     261   BIC:                            -659.3\nDf Model:                           2                                         \nCovariance Type:            nonrobust                                         \n==============================================================================\n                 coef    std err          t      P>|t|      [0.025      0.975]\n------------------------------------------------------------------------------\nconst          0.0082      0.004      1.955      0.052   -5.83e-05       0.017\nMarket_Rf      0.0968      0.121      0.803      0.423      -0.141       0.334\nHH_Rf         -0.0749      0.126     -0.592      0.554      -0.324       0.174\n==============================================================================\nOmnibus:                       13.295   Durbin-Watson:                   2.282\nProb(Omnibus):                  0.001   Jarque-Bera (JB):               29.268\nSkew:                           0.154   Prob(JB):                     4.41e-07\nKurtosis:                       4.602   Cond. No.                         37.8\n==============================================================================\n\nWarnings:\n[1] Standard Errors assume that the covariance matrix of the errors is correctly specified.\n"
     ]
    }
   ],
   "source": [
    "# Right Answer For References\n",
    "import statsmodels.api as sm\n",
    "y = df.UN - df.RF\n",
    "X = pd.DataFrame()\n",
    "X[\"Market_Rf\"] = df.MKT - df.RF\n",
    "X[\"HH_Rf\"] = df.HH - df.RF\n",
    "X = sm.add_constant(X)\n",
    "model = sm.OLS(y, X)\n",
    "fit = model.fit()\n",
    "print (fit.summary())"
   ]
  },
  {
   "source": [
    "#### MY ANSWER STARTS HERE"
   ],
   "cell_type": "markdown",
   "metadata": {}
  },
  {
   "source": [
    "(a) report the coefficient estimates, the $R^2$ and the $Adjusted-R^2$"
   ],
   "cell_type": "markdown",
   "metadata": {}
  },
  {
   "cell_type": "code",
   "execution_count": 103,
   "metadata": {},
   "outputs": [
    {
     "output_type": "execute_result",
     "data": {
      "text/plain": [
       "     Market_Rf   HH_Rf\n",
       "0       0.0287  0.0222\n",
       "1      -0.0256 -0.0142\n",
       "2      -0.0478 -0.0531\n",
       "3       0.0068  0.0137\n",
       "4       0.0058  0.0061\n",
       "..         ...     ...\n",
       "259    -0.0604 -0.0694\n",
       "260    -0.0308 -0.0055\n",
       "261     0.0775  0.0586\n",
       "262     0.0056 -0.0109\n",
       "263    -0.0217  0.0187\n",
       "\n",
       "[264 rows x 2 columns]"
      ],
      "text/html": "<div>\n<style scoped>\n    .dataframe tbody tr th:only-of-type {\n        vertical-align: middle;\n    }\n\n    .dataframe tbody tr th {\n        vertical-align: top;\n    }\n\n    .dataframe thead th {\n        text-align: right;\n    }\n</style>\n<table border=\"1\" class=\"dataframe\">\n  <thead>\n    <tr style=\"text-align: right;\">\n      <th></th>\n      <th>Market_Rf</th>\n      <th>HH_Rf</th>\n    </tr>\n  </thead>\n  <tbody>\n    <tr>\n      <th>0</th>\n      <td>0.0287</td>\n      <td>0.0222</td>\n    </tr>\n    <tr>\n      <th>1</th>\n      <td>-0.0256</td>\n      <td>-0.0142</td>\n    </tr>\n    <tr>\n      <th>2</th>\n      <td>-0.0478</td>\n      <td>-0.0531</td>\n    </tr>\n    <tr>\n      <th>3</th>\n      <td>0.0068</td>\n      <td>0.0137</td>\n    </tr>\n    <tr>\n      <th>4</th>\n      <td>0.0058</td>\n      <td>0.0061</td>\n    </tr>\n    <tr>\n      <th>...</th>\n      <td>...</td>\n      <td>...</td>\n    </tr>\n    <tr>\n      <th>259</th>\n      <td>-0.0604</td>\n      <td>-0.0694</td>\n    </tr>\n    <tr>\n      <th>260</th>\n      <td>-0.0308</td>\n      <td>-0.0055</td>\n    </tr>\n    <tr>\n      <th>261</th>\n      <td>0.0775</td>\n      <td>0.0586</td>\n    </tr>\n    <tr>\n      <th>262</th>\n      <td>0.0056</td>\n      <td>-0.0109</td>\n    </tr>\n    <tr>\n      <th>263</th>\n      <td>-0.0217</td>\n      <td>0.0187</td>\n    </tr>\n  </tbody>\n</table>\n<p>264 rows × 2 columns</p>\n</div>"
     },
     "metadata": {},
     "execution_count": 103
    }
   ],
   "source": [
    "y = df.UN - df.RF\n",
    "X = pd.DataFrame()\n",
    "X[\"Market_Rf\"] = df.MKT - df.RF\n",
    "X[\"HH_Rf\"] = df.HH - df.RF\n",
    "X"
   ]
  },
  {
   "cell_type": "code",
   "execution_count": null,
   "metadata": {},
   "outputs": [],
   "source": []
  },
  {
   "cell_type": "code",
   "execution_count": null,
   "metadata": {},
   "outputs": [],
   "source": []
  },
  {
   "cell_type": "code",
   "execution_count": null,
   "metadata": {},
   "outputs": [],
   "source": []
  },
  {
   "cell_type": "code",
   "execution_count": null,
   "metadata": {},
   "outputs": [],
   "source": []
  },
  {
   "cell_type": "code",
   "execution_count": null,
   "metadata": {},
   "outputs": [],
   "source": []
  },
  {
   "cell_type": "code",
   "execution_count": null,
   "metadata": {},
   "outputs": [],
   "source": []
  },
  {
   "source": [
    "# Problem 4"
   ],
   "cell_type": "markdown",
   "metadata": {}
  },
  {
   "cell_type": "code",
   "execution_count": 89,
   "metadata": {},
   "outputs": [
    {
     "output_type": "execute_result",
     "data": {
      "text/plain": [
       "               PG          UN          HH         MKT          RF\n",
       "count  264.000000  264.000000  264.000000  264.000000  264.000000\n",
       "mean     0.009986    0.010493    0.008408    0.008219    0.002131\n",
       "std      0.056973    0.067521    0.042101    0.044154    0.001846\n",
       "min     -0.325779   -0.167535   -0.142600   -0.171500    0.000000\n",
       "25%     -0.020998   -0.024973   -0.013200   -0.018000    0.000100\n",
       "50%      0.012294    0.014835    0.011450    0.014400    0.001700\n",
       "75%      0.043510    0.047397    0.033825    0.037725    0.004000\n",
       "max      0.267136    0.296875    0.185400    0.113500    0.005600"
      ],
      "text/html": "<div>\n<style scoped>\n    .dataframe tbody tr th:only-of-type {\n        vertical-align: middle;\n    }\n\n    .dataframe tbody tr th {\n        vertical-align: top;\n    }\n\n    .dataframe thead th {\n        text-align: right;\n    }\n</style>\n<table border=\"1\" class=\"dataframe\">\n  <thead>\n    <tr style=\"text-align: right;\">\n      <th></th>\n      <th>PG</th>\n      <th>UN</th>\n      <th>HH</th>\n      <th>MKT</th>\n      <th>RF</th>\n    </tr>\n  </thead>\n  <tbody>\n    <tr>\n      <th>count</th>\n      <td>264.000000</td>\n      <td>264.000000</td>\n      <td>264.000000</td>\n      <td>264.000000</td>\n      <td>264.000000</td>\n    </tr>\n    <tr>\n      <th>mean</th>\n      <td>0.009986</td>\n      <td>0.010493</td>\n      <td>0.008408</td>\n      <td>0.008219</td>\n      <td>0.002131</td>\n    </tr>\n    <tr>\n      <th>std</th>\n      <td>0.056973</td>\n      <td>0.067521</td>\n      <td>0.042101</td>\n      <td>0.044154</td>\n      <td>0.001846</td>\n    </tr>\n    <tr>\n      <th>min</th>\n      <td>-0.325779</td>\n      <td>-0.167535</td>\n      <td>-0.142600</td>\n      <td>-0.171500</td>\n      <td>0.000000</td>\n    </tr>\n    <tr>\n      <th>25%</th>\n      <td>-0.020998</td>\n      <td>-0.024973</td>\n      <td>-0.013200</td>\n      <td>-0.018000</td>\n      <td>0.000100</td>\n    </tr>\n    <tr>\n      <th>50%</th>\n      <td>0.012294</td>\n      <td>0.014835</td>\n      <td>0.011450</td>\n      <td>0.014400</td>\n      <td>0.001700</td>\n    </tr>\n    <tr>\n      <th>75%</th>\n      <td>0.043510</td>\n      <td>0.047397</td>\n      <td>0.033825</td>\n      <td>0.037725</td>\n      <td>0.004000</td>\n    </tr>\n    <tr>\n      <th>max</th>\n      <td>0.267136</td>\n      <td>0.296875</td>\n      <td>0.185400</td>\n      <td>0.113500</td>\n      <td>0.005600</td>\n    </tr>\n  </tbody>\n</table>\n</div>"
     },
     "metadata": {},
     "execution_count": 89
    }
   ],
   "source": [
    "import pandas as pd  \n",
    "import numpy as np  \n",
    "import matplotlib.pyplot as plt  \n",
    "df = pd.read_csv(\"Data_PG_UN.csv\")\n",
    "df.describe()"
   ]
  },
  {
   "cell_type": "code",
   "execution_count": 90,
   "metadata": {},
   "outputs": [
    {
     "output_type": "stream",
     "name": "stdout",
     "text": [
      "                            OLS Regression Results                            \n==============================================================================\nDep. Variable:                      y   R-squared:                       0.019\nModel:                            OLS   Adj. R-squared:                  0.015\nMethod:                 Least Squares   F-statistic:                     5.031\nDate:                Thu, 18 Feb 2021   Prob (F-statistic):             0.0257\nTime:                        05:06:13   Log-Likelihood:                 385.23\nNo. Observations:                 264   AIC:                            -766.5\nDf Residuals:                     262   BIC:                            -759.3\nDf Model:                           1                                         \nCovariance Type:            nonrobust                                         \n==============================================================================\n                 coef    std err          t      P>|t|      [0.025      0.975]\n------------------------------------------------------------------------------\nconst          0.0068      0.004      1.933      0.054      -0.000       0.014\n0              0.1768      0.079      2.243      0.026       0.022       0.332\n==============================================================================\nOmnibus:                       52.647   Durbin-Watson:                   2.206\nProb(Omnibus):                  0.000   Jarque-Bera (JB):              284.663\nSkew:                          -0.641   Prob(JB):                     1.54e-62\nKurtosis:                       7.923   Cond. No.                         22.7\n==============================================================================\n\nWarnings:\n[1] Standard Errors assume that the covariance matrix of the errors is correctly specified.\n"
     ]
    }
   ],
   "source": [
    "# I don't know which one is the R_UL, I use UN to stand for it.\n",
    "# Right Answer\n",
    "import statsmodels.api as sm\n",
    "y = df.PG - df.RF\n",
    "X = df.MKT - df.RF\n",
    "X = sm.add_constant(X)\n",
    "model = sm.OLS(y, X)\n",
    "fit = model.fit()\n",
    "print (fit.summary())"
   ]
  },
  {
   "cell_type": "code",
   "execution_count": null,
   "metadata": {},
   "outputs": [],
   "source": []
  },
  {
   "cell_type": "code",
   "execution_count": null,
   "metadata": {},
   "outputs": [],
   "source": []
  },
  {
   "cell_type": "code",
   "execution_count": null,
   "metadata": {},
   "outputs": [],
   "source": []
  },
  {
   "cell_type": "code",
   "execution_count": null,
   "metadata": {},
   "outputs": [],
   "source": []
  },
  {
   "cell_type": "code",
   "execution_count": null,
   "metadata": {},
   "outputs": [],
   "source": []
  },
  {
   "cell_type": "code",
   "execution_count": null,
   "metadata": {},
   "outputs": [],
   "source": []
  },
  {
   "cell_type": "code",
   "execution_count": null,
   "metadata": {},
   "outputs": [],
   "source": []
  },
  {
   "cell_type": "code",
   "execution_count": null,
   "metadata": {},
   "outputs": [],
   "source": []
  },
  {
   "cell_type": "code",
   "execution_count": null,
   "metadata": {},
   "outputs": [],
   "source": []
  },
  {
   "cell_type": "code",
   "execution_count": null,
   "metadata": {},
   "outputs": [],
   "source": []
  }
 ]
}