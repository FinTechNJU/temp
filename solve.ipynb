{
 "metadata": {
  "language_info": {
   "codemirror_mode": {
    "name": "ipython",
    "version": 3
   },
   "file_extension": ".py",
   "mimetype": "text/x-python",
   "name": "python",
   "nbconvert_exporter": "python",
   "pygments_lexer": "ipython3",
   "version": "3.7.6-final"
  },
  "orig_nbformat": 2,
  "kernelspec": {
   "name": "python3",
   "display_name": "Python 3",
   "language": "python"
  }
 },
 "nbformat": 4,
 "nbformat_minor": 2,
 "cells": [
  {
   "cell_type": "code",
   "execution_count": 17,
   "metadata": {},
   "outputs": [],
   "source": [
    "import numpy as np \n",
    "A0= [\n",
    "    [-0.09212,0.08291, 0.00716, 0.00102, 0.00102, 0,       0,       0      ],\n",
    "    [0.00103,-0.08781, 0.07851, 0.00620, 0.00103, 0.00103, 0,       0      ],\n",
    "    [0.00924, 0.02361,-0.09959, 0.05441, 0.00719, 0.00308, 0.00103, 0.00103],\n",
    "    [0,       0.00318, 0.05938,-0.13053, 0.05302, 0.011166,0.00117, 0.00212],\n",
    "    [0,       0.00110, 0.00659, 0.07692,-0.019451,0.08791, 0.00989, 0.01209],\n",
    "    [0,       0.00114, 0.00227, 0.00454, 0.06470,-0.17253, 0.04086, 0.05902],\n",
    "    [0,       0,       0.00456, 0.01251, 0.02275, 0.12856,-0.39063, 0.22526],\n",
    "    [1,       1,       1,       1,       1,       1,       1,       1      ]\n",
    "    ]\n",
    "b0 =[\n",
    "    0,\n",
    "    0,\n",
    "    0,\n",
    "    0,\n",
    "    0,\n",
    "    0,\n",
    "    0,\n",
    "    1\n",
    "    ]\n",
    "A = np.matrix(A0)\n",
    "b = np.matrix(b0).T"
   ]
  },
  {
   "cell_type": "code",
   "execution_count": 18,
   "metadata": {},
   "outputs": [
    {
     "output_type": "execute_result",
     "data": {
      "text/plain": [
       "(8, 8)"
      ]
     },
     "metadata": {},
     "execution_count": 18
    }
   ],
   "source": [
    "A.shape"
   ]
  },
  {
   "cell_type": "code",
   "execution_count": 19,
   "metadata": {},
   "outputs": [
    {
     "output_type": "execute_result",
     "data": {
      "text/plain": [
       "(8, 1)"
      ]
     },
     "metadata": {},
     "execution_count": 19
    }
   ],
   "source": [
    "b.shape"
   ]
  },
  {
   "cell_type": "code",
   "execution_count": 20,
   "metadata": {},
   "outputs": [],
   "source": [
    "X = np.linalg.solve(A,b)"
   ]
  },
  {
   "cell_type": "code",
   "execution_count": 21,
   "metadata": {},
   "outputs": [
    {
     "output_type": "execute_result",
     "data": {
      "text/plain": [
       "matrix([[ 0.4234011 ],\n",
       "        [ 0.41998577],\n",
       "        [ 0.42064718],\n",
       "        [ 0.45533933],\n",
       "        [ 0.69255757],\n",
       "        [-0.11514661],\n",
       "        [-0.46038539],\n",
       "        [-0.83639895]])"
      ]
     },
     "metadata": {},
     "execution_count": 21
    }
   ],
   "source": [
    "X"
   ]
  },
  {
   "cell_type": "code",
   "execution_count": null,
   "metadata": {},
   "outputs": [],
   "source": []
  }
 ]
}