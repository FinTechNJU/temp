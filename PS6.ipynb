{
 "metadata": {
  "language_info": {
   "codemirror_mode": {
    "name": "ipython",
    "version": 3
   },
   "file_extension": ".py",
   "mimetype": "text/x-python",
   "name": "python",
   "nbconvert_exporter": "python",
   "pygments_lexer": "ipython3",
   "version": "3.7.6-final"
  },
  "orig_nbformat": 2,
  "kernelspec": {
   "name": "python3",
   "display_name": "Python 3",
   "language": "python"
  }
 },
 "nbformat": 4,
 "nbformat_minor": 2,
 "cells": [
  {
   "source": [
    "## First Step :: Function OLS : Compute the OLS estimator and related variables."
   ],
   "cell_type": "markdown",
   "metadata": {}
  },
  {
   "source": [
    "### (a) Input y and X"
   ],
   "cell_type": "markdown",
   "metadata": {}
  },
  {
   "cell_type": "code",
   "execution_count": 86,
   "metadata": {},
   "outputs": [],
   "source": [
    "import pandas as pd \n",
    "x = pd.read_csv(\"X.csv\").drop(x.columns[len(x.columns)-1], axis =1)\n",
    "y = pd.read_csv(\"y.csv\",header = None).drop(y.columns[0],axis=1)\n",
    "X = np.matrix(x).T\n",
    "Y = np.matrix(y)"
   ]
  },
  {
   "cell_type": "code",
   "execution_count": 87,
   "metadata": {},
   "outputs": [
    {
     "output_type": "execute_result",
     "data": {
      "text/plain": [
       "(1110, 2)"
      ]
     },
     "metadata": {},
     "execution_count": 87
    }
   ],
   "source": [
    "Y.shape"
   ]
  },
  {
   "cell_type": "code",
   "execution_count": 88,
   "metadata": {},
   "outputs": [
    {
     "output_type": "execute_result",
     "data": {
      "text/plain": [
       "(1110, 3)"
      ]
     },
     "metadata": {},
     "execution_count": 88
    }
   ],
   "source": [
    "X.shape"
   ]
  },
  {
   "source": [
    "### (b) Return some estimates"
   ],
   "cell_type": "markdown",
   "metadata": {}
  },
  {
   "source": [
    "### Here is the OLS point estimates: y = X$\\beta$"
   ],
   "cell_type": "markdown",
   "metadata": {}
  },
  {
   "cell_type": "code",
   "execution_count": 91,
   "metadata": {},
   "outputs": [
    {
     "output_type": "execute_result",
     "data": {
      "text/plain": [
       "matrix([[ 3.57954473e+03,  1.23479278e+00],\n",
       "        [ 1.44994394e+03, -1.79300898e-01],\n",
       "        [ 4.38979146e+03,  1.05381601e+00]])"
      ]
     },
     "metadata": {},
     "execution_count": 91
    }
   ],
   "source": [
    "beta = np.linalg.inv(X.T * X) * (X.T * Y)\n",
    "beta"
   ]
  },
  {
   "source": [
    "### The OLS errors can be defined as the Frobenius Norm of the matrix $X*\\beta - Y$."
   ],
   "cell_type": "markdown",
   "metadata": {}
  },
  {
   "cell_type": "code",
   "execution_count": 109,
   "metadata": {},
   "outputs": [
    {
     "output_type": "execute_result",
     "data": {
      "text/plain": [
       "6499724.904096859"
      ]
     },
     "metadata": {},
     "execution_count": 109
    }
   ],
   "source": [
    "olsErr = np.linalg.norm((X * beta - Y), ord = 'fro')\n",
    "olsErr"
   ]
  },
  {
   "source": [
    "### (c) Check whether a constant is included in X"
   ],
   "cell_type": "markdown",
   "metadata": {}
  },
  {
   "cell_type": "code",
   "execution_count": 167,
   "metadata": {},
   "outputs": [
    {
     "output_type": "execute_result",
     "data": {
      "text/plain": [
       "[True, True, True]"
      ]
     },
     "metadata": {},
     "execution_count": 167
    }
   ],
   "source": [
    "lst=[]\n",
    "for i in range(X.shape[1]):\n",
    "    column = X[:,i]\n",
    "    lst.append(False in [(column[0]-column[j])<0.0001 for j in range(len(column))]) #this attribute of the vector is not a constant\n",
    "lst"
   ]
  },
  {
   "source": [
    "#### As you can see, no attribute of the vector x is a constant"
   ],
   "cell_type": "markdown",
   "metadata": {}
  },
  {
   "source": [
    "### (d) IF no constnat, option to include a constant or not"
   ],
   "cell_type": "markdown",
   "metadata": {}
  },
  {
   "cell_type": "code",
   "execution_count": 203,
   "metadata": {},
   "outputs": [
    {
     "output_type": "execute_result",
     "data": {
      "text/plain": [
       "matrix([[ 2.96,  2.64,  0.36, ..., -7.68,  1.69,  8.41],\n",
       "        [-2.3 , -1.4 , -1.32, ..., -4.68, -0.74,  3.01],\n",
       "        [-2.87,  4.19,  0.01, ...,  3.41,  0.19, -0.6 ],\n",
       "        [ 2.  ,  2.  ,  2.  , ...,  2.  ,  2.  ,  2.  ]])"
      ]
     },
     "metadata": {},
     "execution_count": 203
    }
   ],
   "source": [
    "num= 2 # the value of the constant that will be added into X\n",
    "newAdded = np.matrix(num * np.ones(X.shape[0])).T\n",
    "X_new  = np.concatenate((X.T, newAdded.T))\n",
    "X_new"
   ]
  },
  {
   "source": [
    "### (e) Return the projection matrices P amd M, and check whether $PM=0$"
   ],
   "cell_type": "markdown",
   "metadata": {}
  },
  {
   "cell_type": "code",
   "execution_count": 127,
   "metadata": {},
   "outputs": [
    {
     "output_type": "execute_result",
     "data": {
      "text/plain": [
       "matrix([[-0., -0., -0., ..., -0., -0., -0.],\n",
       "        [ 0.,  0.,  0., ...,  0.,  0.,  0.],\n",
       "        [-0., -0., -0., ..., -0., -0., -0.],\n",
       "        ...,\n",
       "        [-0., -0., -0., ..., -0., -0., -0.],\n",
       "        [ 0.,  0.,  0., ...,  0.,  0.,  0.],\n",
       "        [ 0.,  0.,  0., ...,  0.,  0.,  0.]])"
      ]
     },
     "metadata": {},
     "execution_count": 127
    }
   ],
   "source": [
    "P = X * np.linalg.inv(X.T * X) * X.T \n",
    "I = np.ones(P.shape[0]**2).reshape(P.shape)\n",
    "M = I - P\n",
    "result = P * M \n",
    "result.round(0)"
   ]
  },
  {
   "source": [
    "### (f) Check whether the sample equivalent of the condition $E(ex)=0$ is satisfied"
   ],
   "cell_type": "markdown",
   "metadata": {}
  },
  {
   "cell_type": "code",
   "execution_count": 150,
   "metadata": {},
   "outputs": [
    {
     "output_type": "execute_result",
     "data": {
      "text/plain": [
       "array([[ 0.,  0.,  0.],\n",
       "       [ 0., -0.,  0.]])"
      ]
     },
     "metadata": {},
     "execution_count": 150
    }
   ],
   "source": [
    "e = X * beta - Y\n",
    "result = 1/ X.shape[1] *e.T * X\n",
    "result.round(2)"
   ]
  },
  {
   "source": [
    "#### As we can see from the result: $E(X*e) = 0$"
   ],
   "cell_type": "markdown",
   "metadata": {}
  },
  {
   "source": [
    "### (g) $Q_{x,x}=E(x_i,x_i')$"
   ],
   "cell_type": "markdown",
   "metadata": {}
  },
  {
   "cell_type": "code",
   "execution_count": 134,
   "metadata": {},
   "outputs": [
    {
     "output_type": "execute_result",
     "data": {
      "text/plain": [
       "matrix([[22.2885]])"
      ]
     },
     "metadata": {},
     "execution_count": 134
    }
   ],
   "source": [
    "X[0] * X[0].T"
   ]
  },
  {
   "cell_type": "code",
   "execution_count": 143,
   "metadata": {},
   "outputs": [
    {
     "output_type": "execute_result",
     "data": {
      "text/plain": [
       "matrix([[28.83022532,  5.56324117,  4.59701838],\n",
       "        [ 5.56324117, 10.21579829,  1.45434279],\n",
       "        [ 4.59701838,  1.45434279, 12.24126225]])"
      ]
     },
     "metadata": {},
     "execution_count": 143
    }
   ],
   "source": [
    "Q_xx = 1/X.shape[0] * sum([X[i].T * X[i] for i in range(X.shape[0])])\n",
    "Q_xx"
   ]
  },
  {
   "cell_type": "code",
   "execution_count": 145,
   "metadata": {},
   "outputs": [
    {
     "output_type": "execute_result",
     "data": {
      "text/plain": [
       "3.642205298494017"
      ]
     },
     "metadata": {},
     "execution_count": 145
    }
   ],
   "source": [
    "np.linalg.cond(Q_xx)"
   ]
  },
  {
   "source": [
    "#### So Q_xx is not a sigular matrix"
   ],
   "cell_type": "markdown",
   "metadata": {}
  },
  {
   "cell_type": "code",
   "execution_count": 146,
   "metadata": {},
   "outputs": [
    {
     "output_type": "execute_result",
     "data": {
      "text/plain": [
       "matrix([[ 0.04065445, -0.02030933, -0.01285427],\n",
       "        [-0.02030933,  0.10971744, -0.0054083 ],\n",
       "        [-0.01285427, -0.0054083 ,  0.08716069]])"
      ]
     },
     "metadata": {},
     "execution_count": 146
    }
   ],
   "source": [
    "np.linalg.inv(Q_xx)"
   ]
  },
  {
   "cell_type": "code",
   "execution_count": 166,
   "metadata": {},
   "outputs": [
    {
     "output_type": "execute_result",
     "data": {
      "text/plain": [
       "[True, True, True]"
      ]
     },
     "metadata": {},
     "execution_count": 166
    }
   ],
   "source": []
  },
  {
   "cell_type": "code",
   "execution_count": 162,
   "metadata": {},
   "outputs": [
    {
     "output_type": "execute_result",
     "data": {
      "text/plain": [
       "matrix([[ 2.96],\n",
       "        [ 2.64],\n",
       "        [ 0.36],\n",
       "        ...,\n",
       "        [-7.68],\n",
       "        [ 1.69],\n",
       "        [ 8.41]])"
      ]
     },
     "metadata": {},
     "execution_count": 162
    }
   ],
   "source": [
    "column"
   ]
  },
  {
   "source": [
    "## Second Step::t_test : Compute t-test whether $\\beta_i=b^0$"
   ],
   "cell_type": "markdown",
   "metadata": {}
  },
  {
   "source": [
    "### (a) Input b0 and other necessary data"
   ],
   "cell_type": "markdown",
   "metadata": {}
  },
  {
   "source": [
    "### (b) t-test value and flags at 1%, 5% and 10% levels "
   ],
   "cell_type": "markdown",
   "metadata": {}
  },
  {
   "cell_type": "code",
   "execution_count": null,
   "metadata": {},
   "outputs": [],
   "source": []
  }
 ]
}